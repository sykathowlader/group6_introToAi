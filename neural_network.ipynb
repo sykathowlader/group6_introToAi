{
  "nbformat": 4,
  "nbformat_minor": 0,
  "metadata": {
    "colab": {
      "provenance": [],
      "authorship_tag": "ABX9TyNYM7TwDkfiJXob6LEkcf2H",
      "include_colab_link": true
    },
    "kernelspec": {
      "name": "python3",
      "display_name": "Python 3"
    },
    "language_info": {
      "name": "python"
    }
  },
  "cells": [
    {
      "cell_type": "markdown",
      "metadata": {
        "id": "view-in-github",
        "colab_type": "text"
      },
      "source": [
        "<a href=\"https://colab.research.google.com/github/sykathowlader/group6_introToAi/blob/main/neural_network.ipynb\" target=\"_parent\"><img src=\"https://colab.research.google.com/assets/colab-badge.svg\" alt=\"Open In Colab\"/></a>"
      ]
    },
    {
      "cell_type": "code",
      "execution_count": 1,
      "metadata": {
        "id": "xNDlTWPqfRuY"
      },
      "outputs": [],
      "source": [
        "#imports\n",
        "import pandas as pd\n",
        "import numpy as np\n",
        "import matplotlib.pyplot as plt\n",
        "from sklearn.utils import resample\n",
        "from sklearn.model_selection import train_test_split\n",
        "from sklearn.preprocessing import StandardScaler\n",
        "from sklearn.tree import DecisionTreeClassifier\n",
        "from sklearn import metrics\n",
        "from sklearn.metrics import accuracy_score, confusion_matrix, ConfusionMatrixDisplay\n",
        "from sklearn.model_selection import KFold\n",
        "from sklearn.preprocessing import StandardScaler, OneHotEncoder\n",
        "import requests\n",
        "from sklearn import preprocessing\n",
        "import tensorflow as tf\n",
        "from tensorflow import keras\n",
        "from tensorflow.keras.models import Sequential\n",
        "from tensorflow.keras.layers import Dense\n",
        "from imblearn.over_sampling import RandomOverSampler\n",
        "from tensorflow.keras.optimizers import Adam\n",
        "from tensorflow.keras.layers import Dropout\n",
        "from tensorflow.keras.callbacks import EarlyStopping\n",
        "\n",
        "\n",
        "\n",
        "\n",
        "\n"
      ]
    },
    {
      "cell_type": "markdown",
      "source": [
        "The first dataset I'm loading now is a clean dataset of 253,680 survey responses to the CDC's BRFSS2015. The target variable Diabetes_012 has 3 classes. 0 is for no diabetes or only during pregnancy, 1 is for prediabetes, and 2 is for diabetes. This dataset has 21 feature variables"
      ],
      "metadata": {
        "id": "Zc0API9_MFNS"
      }
    },
    {
      "cell_type": "code",
      "source": [
        "url = \"https://sykathowlader.github.io/visualization_data/diabetes.csv\"\n",
        "\n",
        "#Store the dataset into a pandas DataFrame\n",
        "df = pd.read_csv(url)\n",
        "\n",
        "#Shuffle the rows of the dataset\n",
        "np.random.seed(42)\n",
        "df = df.reindex(np.random.permutation(df.index))\n",
        "#print the head of the dataset\n",
        "df.head()"
      ],
      "metadata": {
        "colab": {
          "base_uri": "https://localhost:8080/",
          "height": 255
        },
        "id": "7rUxHDTpfYzJ",
        "outputId": "2c1c1f0d-d227-4d88-bb76-0bab7482e1f5"
      },
      "execution_count": null,
      "outputs": [
        {
          "output_type": "execute_result",
          "data": {
            "text/plain": [
              "        Diabetes_012  HighBP  HighChol  CholCheck   BMI  Smoker  Stroke  \\\n",
              "219620           0.0     0.0       0.0        1.0  21.0     0.0     0.0   \n",
              "132821           0.0     1.0       1.0        1.0  28.0     0.0     0.0   \n",
              "151862           0.0     0.0       0.0        1.0  24.0     0.0     0.0   \n",
              "139717           0.0     0.0       0.0        1.0  27.0     1.0     0.0   \n",
              "239235           0.0     0.0       1.0        1.0  31.0     1.0     0.0   \n",
              "\n",
              "        HeartDiseaseorAttack  PhysActivity  Fruits  ...  AnyHealthcare  \\\n",
              "219620                   0.0           0.0     1.0  ...            1.0   \n",
              "132821                   0.0           1.0     1.0  ...            1.0   \n",
              "151862                   0.0           1.0     1.0  ...            1.0   \n",
              "139717                   0.0           1.0     0.0  ...            1.0   \n",
              "239235                   0.0           0.0     1.0  ...            1.0   \n",
              "\n",
              "        NoDocbcCost  GenHlth  MentHlth  PhysHlth  DiffWalk  Sex   Age  \\\n",
              "219620          0.0      3.0       3.0       7.0       0.0  0.0   7.0   \n",
              "132821          0.0      3.0       0.0       0.0       0.0  0.0  13.0   \n",
              "151862          0.0      1.0       0.0       0.0       0.0  1.0   1.0   \n",
              "139717          0.0      2.0       3.0       0.0       0.0  1.0   2.0   \n",
              "239235          1.0      4.0      27.0      27.0       1.0  0.0   8.0   \n",
              "\n",
              "        Education  Income  \n",
              "219620        4.0     2.0  \n",
              "132821        6.0     6.0  \n",
              "151862        4.0     7.0  \n",
              "139717        4.0     7.0  \n",
              "239235        3.0     2.0  \n",
              "\n",
              "[5 rows x 22 columns]"
            ],
            "text/html": [
              "\n",
              "  <div id=\"df-6634eea7-e93a-442a-a2b1-0531e8691f25\" class=\"colab-df-container\">\n",
              "    <div>\n",
              "<style scoped>\n",
              "    .dataframe tbody tr th:only-of-type {\n",
              "        vertical-align: middle;\n",
              "    }\n",
              "\n",
              "    .dataframe tbody tr th {\n",
              "        vertical-align: top;\n",
              "    }\n",
              "\n",
              "    .dataframe thead th {\n",
              "        text-align: right;\n",
              "    }\n",
              "</style>\n",
              "<table border=\"1\" class=\"dataframe\">\n",
              "  <thead>\n",
              "    <tr style=\"text-align: right;\">\n",
              "      <th></th>\n",
              "      <th>Diabetes_012</th>\n",
              "      <th>HighBP</th>\n",
              "      <th>HighChol</th>\n",
              "      <th>CholCheck</th>\n",
              "      <th>BMI</th>\n",
              "      <th>Smoker</th>\n",
              "      <th>Stroke</th>\n",
              "      <th>HeartDiseaseorAttack</th>\n",
              "      <th>PhysActivity</th>\n",
              "      <th>Fruits</th>\n",
              "      <th>...</th>\n",
              "      <th>AnyHealthcare</th>\n",
              "      <th>NoDocbcCost</th>\n",
              "      <th>GenHlth</th>\n",
              "      <th>MentHlth</th>\n",
              "      <th>PhysHlth</th>\n",
              "      <th>DiffWalk</th>\n",
              "      <th>Sex</th>\n",
              "      <th>Age</th>\n",
              "      <th>Education</th>\n",
              "      <th>Income</th>\n",
              "    </tr>\n",
              "  </thead>\n",
              "  <tbody>\n",
              "    <tr>\n",
              "      <th>219620</th>\n",
              "      <td>0.0</td>\n",
              "      <td>0.0</td>\n",
              "      <td>0.0</td>\n",
              "      <td>1.0</td>\n",
              "      <td>21.0</td>\n",
              "      <td>0.0</td>\n",
              "      <td>0.0</td>\n",
              "      <td>0.0</td>\n",
              "      <td>0.0</td>\n",
              "      <td>1.0</td>\n",
              "      <td>...</td>\n",
              "      <td>1.0</td>\n",
              "      <td>0.0</td>\n",
              "      <td>3.0</td>\n",
              "      <td>3.0</td>\n",
              "      <td>7.0</td>\n",
              "      <td>0.0</td>\n",
              "      <td>0.0</td>\n",
              "      <td>7.0</td>\n",
              "      <td>4.0</td>\n",
              "      <td>2.0</td>\n",
              "    </tr>\n",
              "    <tr>\n",
              "      <th>132821</th>\n",
              "      <td>0.0</td>\n",
              "      <td>1.0</td>\n",
              "      <td>1.0</td>\n",
              "      <td>1.0</td>\n",
              "      <td>28.0</td>\n",
              "      <td>0.0</td>\n",
              "      <td>0.0</td>\n",
              "      <td>0.0</td>\n",
              "      <td>1.0</td>\n",
              "      <td>1.0</td>\n",
              "      <td>...</td>\n",
              "      <td>1.0</td>\n",
              "      <td>0.0</td>\n",
              "      <td>3.0</td>\n",
              "      <td>0.0</td>\n",
              "      <td>0.0</td>\n",
              "      <td>0.0</td>\n",
              "      <td>0.0</td>\n",
              "      <td>13.0</td>\n",
              "      <td>6.0</td>\n",
              "      <td>6.0</td>\n",
              "    </tr>\n",
              "    <tr>\n",
              "      <th>151862</th>\n",
              "      <td>0.0</td>\n",
              "      <td>0.0</td>\n",
              "      <td>0.0</td>\n",
              "      <td>1.0</td>\n",
              "      <td>24.0</td>\n",
              "      <td>0.0</td>\n",
              "      <td>0.0</td>\n",
              "      <td>0.0</td>\n",
              "      <td>1.0</td>\n",
              "      <td>1.0</td>\n",
              "      <td>...</td>\n",
              "      <td>1.0</td>\n",
              "      <td>0.0</td>\n",
              "      <td>1.0</td>\n",
              "      <td>0.0</td>\n",
              "      <td>0.0</td>\n",
              "      <td>0.0</td>\n",
              "      <td>1.0</td>\n",
              "      <td>1.0</td>\n",
              "      <td>4.0</td>\n",
              "      <td>7.0</td>\n",
              "    </tr>\n",
              "    <tr>\n",
              "      <th>139717</th>\n",
              "      <td>0.0</td>\n",
              "      <td>0.0</td>\n",
              "      <td>0.0</td>\n",
              "      <td>1.0</td>\n",
              "      <td>27.0</td>\n",
              "      <td>1.0</td>\n",
              "      <td>0.0</td>\n",
              "      <td>0.0</td>\n",
              "      <td>1.0</td>\n",
              "      <td>0.0</td>\n",
              "      <td>...</td>\n",
              "      <td>1.0</td>\n",
              "      <td>0.0</td>\n",
              "      <td>2.0</td>\n",
              "      <td>3.0</td>\n",
              "      <td>0.0</td>\n",
              "      <td>0.0</td>\n",
              "      <td>1.0</td>\n",
              "      <td>2.0</td>\n",
              "      <td>4.0</td>\n",
              "      <td>7.0</td>\n",
              "    </tr>\n",
              "    <tr>\n",
              "      <th>239235</th>\n",
              "      <td>0.0</td>\n",
              "      <td>0.0</td>\n",
              "      <td>1.0</td>\n",
              "      <td>1.0</td>\n",
              "      <td>31.0</td>\n",
              "      <td>1.0</td>\n",
              "      <td>0.0</td>\n",
              "      <td>0.0</td>\n",
              "      <td>0.0</td>\n",
              "      <td>1.0</td>\n",
              "      <td>...</td>\n",
              "      <td>1.0</td>\n",
              "      <td>1.0</td>\n",
              "      <td>4.0</td>\n",
              "      <td>27.0</td>\n",
              "      <td>27.0</td>\n",
              "      <td>1.0</td>\n",
              "      <td>0.0</td>\n",
              "      <td>8.0</td>\n",
              "      <td>3.0</td>\n",
              "      <td>2.0</td>\n",
              "    </tr>\n",
              "  </tbody>\n",
              "</table>\n",
              "<p>5 rows × 22 columns</p>\n",
              "</div>\n",
              "    <div class=\"colab-df-buttons\">\n",
              "\n",
              "  <div class=\"colab-df-container\">\n",
              "    <button class=\"colab-df-convert\" onclick=\"convertToInteractive('df-6634eea7-e93a-442a-a2b1-0531e8691f25')\"\n",
              "            title=\"Convert this dataframe to an interactive table.\"\n",
              "            style=\"display:none;\">\n",
              "\n",
              "  <svg xmlns=\"http://www.w3.org/2000/svg\" height=\"24px\" viewBox=\"0 -960 960 960\">\n",
              "    <path d=\"M120-120v-720h720v720H120Zm60-500h600v-160H180v160Zm220 220h160v-160H400v160Zm0 220h160v-160H400v160ZM180-400h160v-160H180v160Zm440 0h160v-160H620v160ZM180-180h160v-160H180v160Zm440 0h160v-160H620v160Z\"/>\n",
              "  </svg>\n",
              "    </button>\n",
              "\n",
              "  <style>\n",
              "    .colab-df-container {\n",
              "      display:flex;\n",
              "      gap: 12px;\n",
              "    }\n",
              "\n",
              "    .colab-df-convert {\n",
              "      background-color: #E8F0FE;\n",
              "      border: none;\n",
              "      border-radius: 50%;\n",
              "      cursor: pointer;\n",
              "      display: none;\n",
              "      fill: #1967D2;\n",
              "      height: 32px;\n",
              "      padding: 0 0 0 0;\n",
              "      width: 32px;\n",
              "    }\n",
              "\n",
              "    .colab-df-convert:hover {\n",
              "      background-color: #E2EBFA;\n",
              "      box-shadow: 0px 1px 2px rgba(60, 64, 67, 0.3), 0px 1px 3px 1px rgba(60, 64, 67, 0.15);\n",
              "      fill: #174EA6;\n",
              "    }\n",
              "\n",
              "    .colab-df-buttons div {\n",
              "      margin-bottom: 4px;\n",
              "    }\n",
              "\n",
              "    [theme=dark] .colab-df-convert {\n",
              "      background-color: #3B4455;\n",
              "      fill: #D2E3FC;\n",
              "    }\n",
              "\n",
              "    [theme=dark] .colab-df-convert:hover {\n",
              "      background-color: #434B5C;\n",
              "      box-shadow: 0px 1px 3px 1px rgba(0, 0, 0, 0.15);\n",
              "      filter: drop-shadow(0px 1px 2px rgba(0, 0, 0, 0.3));\n",
              "      fill: #FFFFFF;\n",
              "    }\n",
              "  </style>\n",
              "\n",
              "    <script>\n",
              "      const buttonEl =\n",
              "        document.querySelector('#df-6634eea7-e93a-442a-a2b1-0531e8691f25 button.colab-df-convert');\n",
              "      buttonEl.style.display =\n",
              "        google.colab.kernel.accessAllowed ? 'block' : 'none';\n",
              "\n",
              "      async function convertToInteractive(key) {\n",
              "        const element = document.querySelector('#df-6634eea7-e93a-442a-a2b1-0531e8691f25');\n",
              "        const dataTable =\n",
              "          await google.colab.kernel.invokeFunction('convertToInteractive',\n",
              "                                                    [key], {});\n",
              "        if (!dataTable) return;\n",
              "\n",
              "        const docLinkHtml = 'Like what you see? Visit the ' +\n",
              "          '<a target=\"_blank\" href=https://colab.research.google.com/notebooks/data_table.ipynb>data table notebook</a>'\n",
              "          + ' to learn more about interactive tables.';\n",
              "        element.innerHTML = '';\n",
              "        dataTable['output_type'] = 'display_data';\n",
              "        await google.colab.output.renderOutput(dataTable, element);\n",
              "        const docLink = document.createElement('div');\n",
              "        docLink.innerHTML = docLinkHtml;\n",
              "        element.appendChild(docLink);\n",
              "      }\n",
              "    </script>\n",
              "  </div>\n",
              "\n",
              "\n",
              "<div id=\"df-45008d32-e2fc-426f-b4f4-800f6f00c080\">\n",
              "  <button class=\"colab-df-quickchart\" onclick=\"quickchart('df-45008d32-e2fc-426f-b4f4-800f6f00c080')\"\n",
              "            title=\"Suggest charts\"\n",
              "            style=\"display:none;\">\n",
              "\n",
              "<svg xmlns=\"http://www.w3.org/2000/svg\" height=\"24px\"viewBox=\"0 0 24 24\"\n",
              "     width=\"24px\">\n",
              "    <g>\n",
              "        <path d=\"M19 3H5c-1.1 0-2 .9-2 2v14c0 1.1.9 2 2 2h14c1.1 0 2-.9 2-2V5c0-1.1-.9-2-2-2zM9 17H7v-7h2v7zm4 0h-2V7h2v10zm4 0h-2v-4h2v4z\"/>\n",
              "    </g>\n",
              "</svg>\n",
              "  </button>\n",
              "\n",
              "<style>\n",
              "  .colab-df-quickchart {\n",
              "      --bg-color: #E8F0FE;\n",
              "      --fill-color: #1967D2;\n",
              "      --hover-bg-color: #E2EBFA;\n",
              "      --hover-fill-color: #174EA6;\n",
              "      --disabled-fill-color: #AAA;\n",
              "      --disabled-bg-color: #DDD;\n",
              "  }\n",
              "\n",
              "  [theme=dark] .colab-df-quickchart {\n",
              "      --bg-color: #3B4455;\n",
              "      --fill-color: #D2E3FC;\n",
              "      --hover-bg-color: #434B5C;\n",
              "      --hover-fill-color: #FFFFFF;\n",
              "      --disabled-bg-color: #3B4455;\n",
              "      --disabled-fill-color: #666;\n",
              "  }\n",
              "\n",
              "  .colab-df-quickchart {\n",
              "    background-color: var(--bg-color);\n",
              "    border: none;\n",
              "    border-radius: 50%;\n",
              "    cursor: pointer;\n",
              "    display: none;\n",
              "    fill: var(--fill-color);\n",
              "    height: 32px;\n",
              "    padding: 0;\n",
              "    width: 32px;\n",
              "  }\n",
              "\n",
              "  .colab-df-quickchart:hover {\n",
              "    background-color: var(--hover-bg-color);\n",
              "    box-shadow: 0 1px 2px rgba(60, 64, 67, 0.3), 0 1px 3px 1px rgba(60, 64, 67, 0.15);\n",
              "    fill: var(--button-hover-fill-color);\n",
              "  }\n",
              "\n",
              "  .colab-df-quickchart-complete:disabled,\n",
              "  .colab-df-quickchart-complete:disabled:hover {\n",
              "    background-color: var(--disabled-bg-color);\n",
              "    fill: var(--disabled-fill-color);\n",
              "    box-shadow: none;\n",
              "  }\n",
              "\n",
              "  .colab-df-spinner {\n",
              "    border: 2px solid var(--fill-color);\n",
              "    border-color: transparent;\n",
              "    border-bottom-color: var(--fill-color);\n",
              "    animation:\n",
              "      spin 1s steps(1) infinite;\n",
              "  }\n",
              "\n",
              "  @keyframes spin {\n",
              "    0% {\n",
              "      border-color: transparent;\n",
              "      border-bottom-color: var(--fill-color);\n",
              "      border-left-color: var(--fill-color);\n",
              "    }\n",
              "    20% {\n",
              "      border-color: transparent;\n",
              "      border-left-color: var(--fill-color);\n",
              "      border-top-color: var(--fill-color);\n",
              "    }\n",
              "    30% {\n",
              "      border-color: transparent;\n",
              "      border-left-color: var(--fill-color);\n",
              "      border-top-color: var(--fill-color);\n",
              "      border-right-color: var(--fill-color);\n",
              "    }\n",
              "    40% {\n",
              "      border-color: transparent;\n",
              "      border-right-color: var(--fill-color);\n",
              "      border-top-color: var(--fill-color);\n",
              "    }\n",
              "    60% {\n",
              "      border-color: transparent;\n",
              "      border-right-color: var(--fill-color);\n",
              "    }\n",
              "    80% {\n",
              "      border-color: transparent;\n",
              "      border-right-color: var(--fill-color);\n",
              "      border-bottom-color: var(--fill-color);\n",
              "    }\n",
              "    90% {\n",
              "      border-color: transparent;\n",
              "      border-bottom-color: var(--fill-color);\n",
              "    }\n",
              "  }\n",
              "</style>\n",
              "\n",
              "  <script>\n",
              "    async function quickchart(key) {\n",
              "      const quickchartButtonEl =\n",
              "        document.querySelector('#' + key + ' button');\n",
              "      quickchartButtonEl.disabled = true;  // To prevent multiple clicks.\n",
              "      quickchartButtonEl.classList.add('colab-df-spinner');\n",
              "      try {\n",
              "        const charts = await google.colab.kernel.invokeFunction(\n",
              "            'suggestCharts', [key], {});\n",
              "      } catch (error) {\n",
              "        console.error('Error during call to suggestCharts:', error);\n",
              "      }\n",
              "      quickchartButtonEl.classList.remove('colab-df-spinner');\n",
              "      quickchartButtonEl.classList.add('colab-df-quickchart-complete');\n",
              "    }\n",
              "    (() => {\n",
              "      let quickchartButtonEl =\n",
              "        document.querySelector('#df-45008d32-e2fc-426f-b4f4-800f6f00c080 button');\n",
              "      quickchartButtonEl.style.display =\n",
              "        google.colab.kernel.accessAllowed ? 'block' : 'none';\n",
              "    })();\n",
              "  </script>\n",
              "</div>\n",
              "    </div>\n",
              "  </div>\n"
            ]
          },
          "metadata": {},
          "execution_count": 2
        }
      ]
    },
    {
      "cell_type": "code",
      "source": [
        "y = df['Diabetes_012']\n",
        "X = df.drop('Diabetes_012', axis=1)\n",
        "# Scale the features\n",
        "scaler = StandardScaler()\n",
        "X_scaled = scaler.fit_transform(X)\n",
        "\n",
        "#Here I'm using the one-hot encoding to transform the target label into an array suitable for neural network, as there are three classes for my Y.\n",
        "y_encoded = pd.get_dummies(df['Diabetes_012'])\n",
        "\n",
        "\n",
        "# Split the dataset into training and testing sets\n",
        "X_train, X_test, y_train, y_test = train_test_split(X_scaled, y_encoded, test_size=0.2, random_state=42)\n",
        "print(y_test.shape)\n",
        "model1 = Sequential()\n",
        "model1.add(Dense(64, input_shape=(X_train.shape[1],), activation='relu'))\n",
        "model1.add(Dense(64, activation='relu'))\n",
        "model1.add(Dense(y_train.shape[1], activation='softmax'))\n",
        "model1.compile(loss='categorical_crossentropy', optimizer='adam', metrics=['accuracy'])\n",
        "model1.summary()\n",
        "\n"
      ],
      "metadata": {
        "colab": {
          "base_uri": "https://localhost:8080/"
        },
        "id": "HbZMpf9Qpmub",
        "outputId": "380a72b1-10bf-4fa7-f380-869a6b9c2a6c"
      },
      "execution_count": null,
      "outputs": [
        {
          "output_type": "stream",
          "name": "stdout",
          "text": [
            "(50736, 3)\n",
            "Model: \"sequential_2\"\n",
            "_________________________________________________________________\n",
            " Layer (type)                Output Shape              Param #   \n",
            "=================================================================\n",
            " dense_7 (Dense)             (None, 64)                1408      \n",
            "                                                                 \n",
            " dense_8 (Dense)             (None, 64)                4160      \n",
            "                                                                 \n",
            " dense_9 (Dense)             (None, 3)                 195       \n",
            "                                                                 \n",
            "=================================================================\n",
            "Total params: 5763 (22.51 KB)\n",
            "Trainable params: 5763 (22.51 KB)\n",
            "Non-trainable params: 0 (0.00 Byte)\n",
            "_________________________________________________________________\n"
          ]
        }
      ]
    },
    {
      "cell_type": "code",
      "source": [
        "history = model1.fit(X_train, y_train, epochs=3, batch_size=32, validation_split=0.2)"
      ],
      "metadata": {
        "colab": {
          "base_uri": "https://localhost:8080/"
        },
        "id": "DaoYB9UEQM9q",
        "outputId": "cb45f773-204c-4a02-e116-a47664e47f18"
      },
      "execution_count": null,
      "outputs": [
        {
          "output_type": "stream",
          "name": "stdout",
          "text": [
            "Epoch 1/3\n",
            "5074/5074 [==============================] - 11s 2ms/step - loss: 0.3928 - accuracy: 0.8510 - val_loss: 0.3934 - val_accuracy: 0.8508\n",
            "Epoch 2/3\n",
            "5074/5074 [==============================] - 11s 2ms/step - loss: 0.3919 - accuracy: 0.8509 - val_loss: 0.3939 - val_accuracy: 0.8501\n",
            "Epoch 3/3\n",
            "5074/5074 [==============================] - 11s 2ms/step - loss: 0.3914 - accuracy: 0.8514 - val_loss: 0.3931 - val_accuracy: 0.8498\n"
          ]
        }
      ]
    },
    {
      "cell_type": "code",
      "source": [
        "#history = model1.fit(X_train, y_train, epochs=3, batch_size=32, validation_split=0.2)\n",
        "\n",
        "# Evaluate the model\n",
        "loss, accuracy = model1.evaluate(X_test, y_test)\n",
        "print(\"Test Accuracy: {:.2f}%\".format(accuracy * 100))\n",
        "\n",
        "# Generate predictions\n",
        "y_pred = model1.predict(X_test)\n",
        "\n",
        "# Convert predictions to label\n",
        "y_pred_label = np.argmax(y_pred, axis=1)\n",
        "y_test_label = np.argmax(y_test.to_numpy(), axis=1)\n",
        "\n",
        "# Plotting the confusion matrix\n",
        "from sklearn.metrics import confusion_matrix, ConfusionMatrixDisplay\n",
        "import matplotlib.pyplot as plt\n",
        "\n",
        "cm = confusion_matrix(y_test_label, y_pred_label)\n",
        "disp = ConfusionMatrixDisplay(confusion_matrix=cm, display_labels=['No Diabetes', 'Pre-diabetes', 'Diabetes'])\n",
        "disp.plot()\n",
        "plt.show()"
      ],
      "metadata": {
        "colab": {
          "base_uri": "https://localhost:8080/",
          "height": 504
        },
        "id": "p6jf0B_LXg2y",
        "outputId": "4cd87efc-6fe5-481a-ff1f-f0da31b57956"
      },
      "execution_count": null,
      "outputs": [
        {
          "output_type": "stream",
          "name": "stdout",
          "text": [
            "1586/1586 [==============================] - 3s 2ms/step - loss: 0.3983 - accuracy: 0.8456\n",
            "Test Accuracy: 84.56%\n",
            "1586/1586 [==============================] - 2s 1ms/step\n"
          ]
        },
        {
          "output_type": "display_data",
          "data": {
            "text/plain": [
              "<Figure size 640x480 with 2 Axes>"
            ],
            "image/png": "[encoded data removed]"
          },
          "metadata": {}
        }
      ]
    },
    {
      "cell_type": "markdown",
      "source": [
        "This model can't evaluate the pre-diabetes at all. This might be due to class imbalance. In fact the class of prediabetes and diabetes constitute a vast minority of the dataset compared to the non diabetes case. What I will do is to use other 2 datasets to see if there is any improvement.\n",
        "\n",
        "*   First I will use the second dataset that has class 1 and 2 of the target label, from the previous dataset, merged, so that prediabetes and diabetes fall under one single category. 0 is now for no diabetes, and 1 is for prediabetes or diabetes. It has the same number of surveys: 253,680 to the CDC's BRFSS2015.\n",
        "*   \n",
        "After I'll use the third dataset which has an equal number of split of diabetes and non diabetes cases. So, some rows of data have been deletes to achieve a 50/50 split leaving a total data of 70692 rows.\n",
        "\n",
        "\n",
        "Let's proceed with the first approach now uploading the second dataset.\n"
      ],
      "metadata": {
        "id": "SAU68bTJehMF"
      }
    },
    {
      "cell_type": "code",
      "source": [
        "url = \"https://sykathowlader.github.io/visualization_data/diabetes2.csv\"\n",
        "\n",
        "#Store the dataset into a pandas DataFrame\n",
        "df2 = pd.read_csv(url)\n",
        "\n",
        "print(df2['Diabetes_binary'].unique())\n",
        "df2.head()\n"
      ],
      "metadata": {
        "colab": {
          "base_uri": "https://localhost:8080/",
          "height": 274
        },
        "id": "sadVXzNne_MW",
        "outputId": "f364885f-dcb8-4613-8f75-fa989ea73f93"
      },
      "execution_count": null,
      "outputs": [
        {
          "output_type": "stream",
          "name": "stdout",
          "text": [
            "[0. 1.]\n"
          ]
        },
        {
          "output_type": "execute_result",
          "data": {
            "text/plain": [
              "   Diabetes_binary  HighBP  HighChol  CholCheck   BMI  Smoker  Stroke  \\\n",
              "0              0.0     1.0       1.0        1.0  40.0     1.0     0.0   \n",
              "1              0.0     0.0       0.0        0.0  25.0     1.0     0.0   \n",
              "2              0.0     1.0       1.0        1.0  28.0     0.0     0.0   \n",
              "3              0.0     1.0       0.0        1.0  27.0     0.0     0.0   \n",
              "4              0.0     1.0       1.0        1.0  24.0     0.0     0.0   \n",
              "\n",
              "   HeartDiseaseorAttack  PhysActivity  Fruits  ...  AnyHealthcare  \\\n",
              "0                   0.0           0.0     0.0  ...            1.0   \n",
              "1                   0.0           1.0     0.0  ...            0.0   \n",
              "2                   0.0           0.0     1.0  ...            1.0   \n",
              "3                   0.0           1.0     1.0  ...            1.0   \n",
              "4                   0.0           1.0     1.0  ...            1.0   \n",
              "\n",
              "   NoDocbcCost  GenHlth  MentHlth  PhysHlth  DiffWalk  Sex   Age  Education  \\\n",
              "0          0.0      5.0      18.0      15.0       1.0  0.0   9.0        4.0   \n",
              "1          1.0      3.0       0.0       0.0       0.0  0.0   7.0        6.0   \n",
              "2          1.0      5.0      30.0      30.0       1.0  0.0   9.0        4.0   \n",
              "3          0.0      2.0       0.0       0.0       0.0  0.0  11.0        3.0   \n",
              "4          0.0      2.0       3.0       0.0       0.0  0.0  11.0        5.0   \n",
              "\n",
              "   Income  \n",
              "0     3.0  \n",
              "1     1.0  \n",
              "2     8.0  \n",
              "3     6.0  \n",
              "4     4.0  \n",
              "\n",
              "[5 rows x 22 columns]"
            ],
            "text/html": [
              "\n",
              "  <div id=\"df-e9a56308-cc15-4e87-92cd-c68dbd884caa\" class=\"colab-df-container\">\n",
              "    <div>\n",
              "<style scoped>\n",
              "    .dataframe tbody tr th:only-of-type {\n",
              "        vertical-align: middle;\n",
              "    }\n",
              "\n",
              "    .dataframe tbody tr th {\n",
              "        vertical-align: top;\n",
              "    }\n",
              "\n",
              "    .dataframe thead th {\n",
              "        text-align: right;\n",
              "    }\n",
              "</style>\n",
              "<table border=\"1\" class=\"dataframe\">\n",
              "  <thead>\n",
              "    <tr style=\"text-align: right;\">\n",
              "      <th></th>\n",
              "      <th>Diabetes_binary</th>\n",
              "      <th>HighBP</th>\n",
              "      <th>HighChol</th>\n",
              "      <th>CholCheck</th>\n",
              "      <th>BMI</th>\n",
              "      <th>Smoker</th>\n",
              "      <th>Stroke</th>\n",
              "      <th>HeartDiseaseorAttack</th>\n",
              "      <th>PhysActivity</th>\n",
              "      <th>Fruits</th>\n",
              "      <th>...</th>\n",
              "      <th>AnyHealthcare</th>\n",
              "      <th>NoDocbcCost</th>\n",
              "      <th>GenHlth</th>\n",
              "      <th>MentHlth</th>\n",
              "      <th>PhysHlth</th>\n",
              "      <th>DiffWalk</th>\n",
              "      <th>Sex</th>\n",
              "      <th>Age</th>\n",
              "      <th>Education</th>\n",
              "      <th>Income</th>\n",
              "    </tr>\n",
              "  </thead>\n",
              "  <tbody>\n",
              "    <tr>\n",
              "      <th>0</th>\n",
              "      <td>0.0</td>\n",
              "      <td>1.0</td>\n",
              "      <td>1.0</td>\n",
              "      <td>1.0</td>\n",
              "      <td>40.0</td>\n",
              "      <td>1.0</td>\n",
              "      <td>0.0</td>\n",
              "      <td>0.0</td>\n",
              "      <td>0.0</td>\n",
              "      <td>0.0</td>\n",
              "      <td>...</td>\n",
              "      <td>1.0</td>\n",
              "      <td>0.0</td>\n",
              "      <td>5.0</td>\n",
              "      <td>18.0</td>\n",
              "      <td>15.0</td>\n",
              "      <td>1.0</td>\n",
              "      <td>0.0</td>\n",
              "      <td>9.0</td>\n",
              "      <td>4.0</td>\n",
              "      <td>3.0</td>\n",
              "    </tr>\n",
              "    <tr>\n",
              "      <th>1</th>\n",
              "      <td>0.0</td>\n",
              "      <td>0.0</td>\n",
              "      <td>0.0</td>\n",
              "      <td>0.0</td>\n",
              "      <td>25.0</td>\n",
              "      <td>1.0</td>\n",
              "      <td>0.0</td>\n",
              "      <td>0.0</td>\n",
              "      <td>1.0</td>\n",
              "      <td>0.0</td>\n",
              "      <td>...</td>\n",
              "      <td>0.0</td>\n",
              "      <td>1.0</td>\n",
              "      <td>3.0</td>\n",
              "      <td>0.0</td>\n",
              "      <td>0.0</td>\n",
              "      <td>0.0</td>\n",
              "      <td>0.0</td>\n",
              "      <td>7.0</td>\n",
              "      <td>6.0</td>\n",
              "      <td>1.0</td>\n",
              "    </tr>\n",
              "    <tr>\n",
              "      <th>2</th>\n",
              "      <td>0.0</td>\n",
              "      <td>1.0</td>\n",
              "      <td>1.0</td>\n",
              "      <td>1.0</td>\n",
              "      <td>28.0</td>\n",
              "      <td>0.0</td>\n",
              "      <td>0.0</td>\n",
              "      <td>0.0</td>\n",
              "      <td>0.0</td>\n",
              "      <td>1.0</td>\n",
              "      <td>...</td>\n",
              "      <td>1.0</td>\n",
              "      <td>1.0</td>\n",
              "      <td>5.0</td>\n",
              "      <td>30.0</td>\n",
              "      <td>30.0</td>\n",
              "      <td>1.0</td>\n",
              "      <td>0.0</td>\n",
              "      <td>9.0</td>\n",
              "      <td>4.0</td>\n",
              "      <td>8.0</td>\n",
              "    </tr>\n",
              "    <tr>\n",
              "      <th>3</th>\n",
              "      <td>0.0</td>\n",
              "      <td>1.0</td>\n",
              "      <td>0.0</td>\n",
              "      <td>1.0</td>\n",
              "      <td>27.0</td>\n",
              "      <td>0.0</td>\n",
              "      <td>0.0</td>\n",
              "      <td>0.0</td>\n",
              "      <td>1.0</td>\n",
              "      <td>1.0</td>\n",
              "      <td>...</td>\n",
              "      <td>1.0</td>\n",
              "      <td>0.0</td>\n",
              "      <td>2.0</td>\n",
              "      <td>0.0</td>\n",
              "      <td>0.0</td>\n",
              "      <td>0.0</td>\n",
              "      <td>0.0</td>\n",
              "      <td>11.0</td>\n",
              "      <td>3.0</td>\n",
              "      <td>6.0</td>\n",
              "    </tr>\n",
              "    <tr>\n",
              "      <th>4</th>\n",
              "      <td>0.0</td>\n",
              "      <td>1.0</td>\n",
              "      <td>1.0</td>\n",
              "      <td>1.0</td>\n",
              "      <td>24.0</td>\n",
              "      <td>0.0</td>\n",
              "      <td>0.0</td>\n",
              "      <td>0.0</td>\n",
              "      <td>1.0</td>\n",
              "      <td>1.0</td>\n",
              "      <td>...</td>\n",
              "      <td>1.0</td>\n",
              "      <td>0.0</td>\n",
              "      <td>2.0</td>\n",
              "      <td>3.0</td>\n",
              "      <td>0.0</td>\n",
              "      <td>0.0</td>\n",
              "      <td>0.0</td>\n",
              "      <td>11.0</td>\n",
              "      <td>5.0</td>\n",
              "      <td>4.0</td>\n",
              "    </tr>\n",
              "  </tbody>\n",
              "</table>\n",
              "<p>5 rows × 22 columns</p>\n",
              "</div>\n",
              "    <div class=\"colab-df-buttons\">\n",
              "\n",
              "  <div class=\"colab-df-container\">\n",
              "    <button class=\"colab-df-convert\" onclick=\"convertToInteractive('df-e9a56308-cc15-4e87-92cd-c68dbd884caa')\"\n",
              "            title=\"Convert this dataframe to an interactive table.\"\n",
              "            style=\"display:none;\">\n",
              "\n",
              "  <svg xmlns=\"http://www.w3.org/2000/svg\" height=\"24px\" viewBox=\"0 -960 960 960\">\n",
              "    <path d=\"M120-120v-720h720v720H120Zm60-500h600v-160H180v160Zm220 220h160v-160H400v160Zm0 220h160v-160H400v160ZM180-400h160v-160H180v160Zm440 0h160v-160H620v160ZM180-180h160v-160H180v160Zm440 0h160v-160H620v160Z\"/>\n",
              "  </svg>\n",
              "    </button>\n",
              "\n",
              "  <style>\n",
              "    .colab-df-container {\n",
              "      display:flex;\n",
              "      gap: 12px;\n",
              "    }\n",
              "\n",
              "    .colab-df-convert {\n",
              "      background-color: #E8F0FE;\n",
              "      border: none;\n",
              "      border-radius: 50%;\n",
              "      cursor: pointer;\n",
              "      display: none;\n",
              "      fill: #1967D2;\n",
              "      height: 32px;\n",
              "      padding: 0 0 0 0;\n",
              "      width: 32px;\n",
              "    }\n",
              "\n",
              "    .colab-df-convert:hover {\n",
              "      background-color: #E2EBFA;\n",
              "      box-shadow: 0px 1px 2px rgba(60, 64, 67, 0.3), 0px 1px 3px 1px rgba(60, 64, 67, 0.15);\n",
              "      fill: #174EA6;\n",
              "    }\n",
              "\n",
              "    .colab-df-buttons div {\n",
              "      margin-bottom: 4px;\n",
              "    }\n",
              "\n",
              "    [theme=dark] .colab-df-convert {\n",
              "      background-color: #3B4455;\n",
              "      fill: #D2E3FC;\n",
              "    }\n",
              "\n",
              "    [theme=dark] .colab-df-convert:hover {\n",
              "      background-color: #434B5C;\n",
              "      box-shadow: 0px 1px 3px 1px rgba(0, 0, 0, 0.15);\n",
              "      filter: drop-shadow(0px 1px 2px rgba(0, 0, 0, 0.3));\n",
              "      fill: #FFFFFF;\n",
              "    }\n",
              "  </style>\n",
              "\n",
              "    <script>\n",
              "      const buttonEl =\n",
              "        document.querySelector('#df-e9a56308-cc15-4e87-92cd-c68dbd884caa button.colab-df-convert');\n",
              "      buttonEl.style.display =\n",
              "        google.colab.kernel.accessAllowed ? 'block' : 'none';\n",
              "\n",
              "      async function convertToInteractive(key) {\n",
              "        const element = document.querySelector('#df-e9a56308-cc15-4e87-92cd-c68dbd884caa');\n",
              "        const dataTable =\n",
              "          await google.colab.kernel.invokeFunction('convertToInteractive',\n",
              "                                                    [key], {});\n",
              "        if (!dataTable) return;\n",
              "\n",
              "        const docLinkHtml = 'Like what you see? Visit the ' +\n",
              "          '<a target=\"_blank\" href=https://colab.research.google.com/notebooks/data_table.ipynb>data table notebook</a>'\n",
              "          + ' to learn more about interactive tables.';\n",
              "        element.innerHTML = '';\n",
              "        dataTable['output_type'] = 'display_data';\n",
              "        await google.colab.output.renderOutput(dataTable, element);\n",
              "        const docLink = document.createElement('div');\n",
              "        docLink.innerHTML = docLinkHtml;\n",
              "        element.appendChild(docLink);\n",
              "      }\n",
              "    </script>\n",
              "  </div>\n",
              "\n",
              "\n",
              "<div id=\"df-9bf8e4b6-7fec-42e2-a318-64988adfd3aa\">\n",
              "  <button class=\"colab-df-quickchart\" onclick=\"quickchart('df-9bf8e4b6-7fec-42e2-a318-64988adfd3aa')\"\n",
              "            title=\"Suggest charts\"\n",
              "            style=\"display:none;\">\n",
              "\n",
              "<svg xmlns=\"http://www.w3.org/2000/svg\" height=\"24px\"viewBox=\"0 0 24 24\"\n",
              "     width=\"24px\">\n",
              "    <g>\n",
              "        <path d=\"M19 3H5c-1.1 0-2 .9-2 2v14c0 1.1.9 2 2 2h14c1.1 0 2-.9 2-2V5c0-1.1-.9-2-2-2zM9 17H7v-7h2v7zm4 0h-2V7h2v10zm4 0h-2v-4h2v4z\"/>\n",
              "    </g>\n",
              "</svg>\n",
              "  </button>\n",
              "\n",
              "<style>\n",
              "  .colab-df-quickchart {\n",
              "      --bg-color: #E8F0FE;\n",
              "      --fill-color: #1967D2;\n",
              "      --hover-bg-color: #E2EBFA;\n",
              "      --hover-fill-color: #174EA6;\n",
              "      --disabled-fill-color: #AAA;\n",
              "      --disabled-bg-color: #DDD;\n",
              "  }\n",
              "\n",
              "  [theme=dark] .colab-df-quickchart {\n",
              "      --bg-color: #3B4455;\n",
              "      --fill-color: #D2E3FC;\n",
              "      --hover-bg-color: #434B5C;\n",
              "      --hover-fill-color: #FFFFFF;\n",
              "      --disabled-bg-color: #3B4455;\n",
              "      --disabled-fill-color: #666;\n",
              "  }\n",
              "\n",
              "  .colab-df-quickchart {\n",
              "    background-color: var(--bg-color);\n",
              "    border: none;\n",
              "    border-radius: 50%;\n",
              "    cursor: pointer;\n",
              "    display: none;\n",
              "    fill: var(--fill-color);\n",
              "    height: 32px;\n",
              "    padding: 0;\n",
              "    width: 32px;\n",
              "  }\n",
              "\n",
              "  .colab-df-quickchart:hover {\n",
              "    background-color: var(--hover-bg-color);\n",
              "    box-shadow: 0 1px 2px rgba(60, 64, 67, 0.3), 0 1px 3px 1px rgba(60, 64, 67, 0.15);\n",
              "    fill: var(--button-hover-fill-color);\n",
              "  }\n",
              "\n",
              "  .colab-df-quickchart-complete:disabled,\n",
              "  .colab-df-quickchart-complete:disabled:hover {\n",
              "    background-color: var(--disabled-bg-color);\n",
              "    fill: var(--disabled-fill-color);\n",
              "    box-shadow: none;\n",
              "  }\n",
              "\n",
              "  .colab-df-spinner {\n",
              "    border: 2px solid var(--fill-color);\n",
              "    border-color: transparent;\n",
              "    border-bottom-color: var(--fill-color);\n",
              "    animation:\n",
              "      spin 1s steps(1) infinite;\n",
              "  }\n",
              "\n",
              "  @keyframes spin {\n",
              "    0% {\n",
              "      border-color: transparent;\n",
              "      border-bottom-color: var(--fill-color);\n",
              "      border-left-color: var(--fill-color);\n",
              "    }\n",
              "    20% {\n",
              "      border-color: transparent;\n",
              "      border-left-color: var(--fill-color);\n",
              "      border-top-color: var(--fill-color);\n",
              "    }\n",
              "    30% {\n",
              "      border-color: transparent;\n",
              "      border-left-color: var(--fill-color);\n",
              "      border-top-color: var(--fill-color);\n",
              "      border-right-color: var(--fill-color);\n",
              "    }\n",
              "    40% {\n",
              "      border-color: transparent;\n",
              "      border-right-color: var(--fill-color);\n",
              "      border-top-color: var(--fill-color);\n",
              "    }\n",
              "    60% {\n",
              "      border-color: transparent;\n",
              "      border-right-color: var(--fill-color);\n",
              "    }\n",
              "    80% {\n",
              "      border-color: transparent;\n",
              "      border-right-color: var(--fill-color);\n",
              "      border-bottom-color: var(--fill-color);\n",
              "    }\n",
              "    90% {\n",
              "      border-color: transparent;\n",
              "      border-bottom-color: var(--fill-color);\n",
              "    }\n",
              "  }\n",
              "</style>\n",
              "\n",
              "  <script>\n",
              "    async function quickchart(key) {\n",
              "      const quickchartButtonEl =\n",
              "        document.querySelector('#' + key + ' button');\n",
              "      quickchartButtonEl.disabled = true;  // To prevent multiple clicks.\n",
              "      quickchartButtonEl.classList.add('colab-df-spinner');\n",
              "      try {\n",
              "        const charts = await google.colab.kernel.invokeFunction(\n",
              "            'suggestCharts', [key], {});\n",
              "      } catch (error) {\n",
              "        console.error('Error during call to suggestCharts:', error);\n",
              "      }\n",
              "      quickchartButtonEl.classList.remove('colab-df-spinner');\n",
              "      quickchartButtonEl.classList.add('colab-df-quickchart-complete');\n",
              "    }\n",
              "    (() => {\n",
              "      let quickchartButtonEl =\n",
              "        document.querySelector('#df-9bf8e4b6-7fec-42e2-a318-64988adfd3aa button');\n",
              "      quickchartButtonEl.style.display =\n",
              "        google.colab.kernel.accessAllowed ? 'block' : 'none';\n",
              "    })();\n",
              "  </script>\n",
              "</div>\n",
              "    </div>\n",
              "  </div>\n"
            ]
          },
          "metadata": {},
          "execution_count": 2
        }
      ]
    },
    {
      "cell_type": "code",
      "source": [
        "y2 = df2['Diabetes_binary']\n",
        "X2 = df2.drop('Diabetes_binary', axis=1)\n",
        "# Scale the features\n",
        "scaler = StandardScaler()\n",
        "X2_scaled = scaler.fit_transform(X2)\n",
        "\n",
        "# Split the dataset into training and testing sets\n",
        "X_train2, X_test2, y_train2, y_test2 = train_test_split(X2_scaled, y2, test_size=0.2, random_state=42)\n",
        "print(X_train2.shape)\n",
        "print(y_train2.shape)\n",
        "print(X_test2.shape)\n",
        "print(y_test2.shape)"
      ],
      "metadata": {
        "colab": {
          "base_uri": "https://localhost:8080/"
        },
        "id": "_Wvk3lQsgWmP",
        "outputId": "925d01ef-a7f7-40ce-e3a5-98fcebfc13f1"
      },
      "execution_count": null,
      "outputs": [
        {
          "output_type": "stream",
          "name": "stdout",
          "text": [
            "(202944, 21)\n",
            "(202944,)\n",
            "(50736, 21)\n",
            "(50736,)\n"
          ]
        }
      ]
    },
    {
      "cell_type": "code",
      "source": [
        "# Build the model\n",
        "model2 = Sequential()\n",
        "model2.add(Dense(128, input_shape=(X_train2.shape[1],), activation='relu'))\n",
        "model2.add(Dense(64, activation='relu'))\n",
        "model2.add(Dense(32, activation='relu'))\n",
        "model2.add(Dense(1, activation='sigmoid'))  # Output layer for binary classification\n",
        "\n",
        "# Compiling the model\n",
        "model2.compile(loss='binary_crossentropy', optimizer='adam', metrics=['accuracy'])\n",
        "model2.summary()\n",
        "\n"
      ],
      "metadata": {
        "colab": {
          "base_uri": "https://localhost:8080/"
        },
        "id": "QEE3NfARhA5e",
        "outputId": "daa69fdd-0a64-45ce-f40e-c7774957a319"
      },
      "execution_count": null,
      "outputs": [
        {
          "output_type": "stream",
          "name": "stdout",
          "text": [
            "Model: \"sequential_13\"\n",
            "_________________________________________________________________\n",
            " Layer (type)                Output Shape              Param #   \n",
            "=================================================================\n",
            " dense_40 (Dense)            (None, 128)               2816      \n",
            "                                                                 \n",
            " dense_41 (Dense)            (None, 64)                8256      \n",
            "                                                                 \n",
            " dense_42 (Dense)            (None, 32)                2080      \n",
            "                                                                 \n",
            " dense_43 (Dense)            (None, 1)                 33        \n",
            "                                                                 \n",
            "=================================================================\n",
            "Total params: 13185 (51.50 KB)\n",
            "Trainable params: 13185 (51.50 KB)\n",
            "Non-trainable params: 0 (0.00 Byte)\n",
            "_________________________________________________________________\n"
          ]
        }
      ]
    },
    {
      "cell_type": "code",
      "source": [
        "# Training the model\n",
        "train2 = model2.fit(X_train2, y_train2, epochs=2, batch_size=32, validation_split=0.2)\n",
        "\n",
        "# Evaluating the model\n",
        "loss, accuracy = model2.evaluate(X_test2, y_test2)\n",
        "print(f\"Test Accuracy: {accuracy * 100:.2f}%\")"
      ],
      "metadata": {
        "colab": {
          "base_uri": "https://localhost:8080/"
        },
        "id": "OJdqnHl6hf0F",
        "outputId": "27f02135-25a9-4992-b0c9-b78ff476afe4"
      },
      "execution_count": null,
      "outputs": [
        {
          "output_type": "stream",
          "name": "stdout",
          "text": [
            "Epoch 1/2\n",
            "5074/5074 [==============================] - 15s 3ms/step - loss: 0.3188 - accuracy: 0.8642 - val_loss: 0.3167 - val_accuracy: 0.8662\n",
            "Epoch 2/2\n",
            "5074/5074 [==============================] - 13s 2ms/step - loss: 0.3149 - accuracy: 0.8657 - val_loss: 0.3133 - val_accuracy: 0.8656\n",
            "1586/1586 [==============================] - 3s 2ms/step - loss: 0.3091 - accuracy: 0.8675\n",
            "Test Accuracy: 86.75%\n"
          ]
        }
      ]
    },
    {
      "cell_type": "code",
      "source": [
        "# Make predictions on the test set\n",
        "y_pred2 = model2.predict(X_test2)\n",
        "y_pred2 = np.round(y_pred2).astype(int)  # Converting probabilities to binary class labels\n",
        "\n",
        "# Generating the confusion matrix\n",
        "cm = confusion_matrix(y_test2, y_pred2)\n",
        "disp = ConfusionMatrixDisplay(confusion_matrix=cm, display_labels=['Non-diabetic', 'Diabetic'])\n",
        "\n",
        "# Display the confusion matrix\n",
        "disp.plot()\n",
        "plt.show()"
      ],
      "metadata": {
        "colab": {
          "base_uri": "https://localhost:8080/",
          "height": 466
        },
        "id": "PNIvetPlqWq3",
        "outputId": "67f416c9-1434-4f4e-ab7f-73a5f63f8184"
      },
      "execution_count": null,
      "outputs": [
        {
          "output_type": "stream",
          "name": "stdout",
          "text": [
            "1586/1586 [==============================] - 2s 1ms/step\n"
          ]
        },
        {
          "output_type": "display_data",
          "data": {
            "text/plain": [
              "<Figure size 640x480 with 2 Axes>"
            ],
            "image/png": "[encoded data removed]"
          },
          "metadata": {}
        }
      ]
    },
    {
      "cell_type": "markdown",
      "source": [
        "The accuracy is a bit higher than the previous one. However it is crucial to predic the diabetes case with hiher accuracy than the non diabetes one.\n",
        "Let's now proceed evaluating the model with the last dataset with an equal 50/50 split of 0 and 1 cases.\n",
        "\n",
        "\n"
      ],
      "metadata": {
        "id": "Eqg0JHo-4Z4C"
      }
    },
    {
      "cell_type": "code",
      "source": [
        "url = \"https://sykathowlader.github.io/visualization_data/diabetes50_50.csv\"\n",
        "\n",
        "#Store the dataset into a pandas DataFrame\n",
        "df3 = pd.read_csv(url)\n",
        "df3.head()\n",
        "#Split X and y\n",
        "y3 = df3['Diabetes_binary']\n",
        "X3 = df3.drop('Diabetes_binary', axis=1)\n",
        "# Scale the features\n",
        "scaler = StandardScaler()\n",
        "X3_scaled = scaler.fit_transform(X3)\n",
        "\n",
        "# Split the dataset into training and testing sets\n",
        "X_train3, X_test3, y_train3, y_test3 = train_test_split(X3_scaled, y3, test_size=0.2, random_state=42)\n",
        "# Build the model\n",
        "model3 = Sequential()\n",
        "model3.add(Dense(128, input_shape=(X_train3.shape[1],), activation='relu'))\n",
        "model3.add(Dense(64, activation='relu'))\n",
        "model3.add(Dense(32, activation='relu'))\n",
        "model3.add(Dense(1, activation='sigmoid'))  # Output layer for binary classification\n",
        "\n",
        "# Compiling the model\n",
        "model3.compile(loss='binary_crossentropy', optimizer='adam', metrics=['accuracy'])\n",
        "model3.summary()\n"
      ],
      "metadata": {
        "colab": {
          "base_uri": "https://localhost:8080/"
        },
        "id": "oEsJKEhb597s",
        "outputId": "0bc9e782-b7b7-4f32-f3d2-c4115c947020"
      },
      "execution_count": null,
      "outputs": [
        {
          "output_type": "stream",
          "name": "stdout",
          "text": [
            "Model: \"sequential_27\"\n",
            "_________________________________________________________________\n",
            " Layer (type)                Output Shape              Param #   \n",
            "=================================================================\n",
            " dense_109 (Dense)           (None, 128)               2816      \n",
            "                                                                 \n",
            " dense_110 (Dense)           (None, 64)                8256      \n",
            "                                                                 \n",
            " dense_111 (Dense)           (None, 32)                2080      \n",
            "                                                                 \n",
            " dense_112 (Dense)           (None, 1)                 33        \n",
            "                                                                 \n",
            "=================================================================\n",
            "Total params: 13185 (51.50 KB)\n",
            "Trainable params: 13185 (51.50 KB)\n",
            "Non-trainable params: 0 (0.00 Byte)\n",
            "_________________________________________________________________\n"
          ]
        }
      ]
    },
    {
      "cell_type": "code",
      "source": [
        "# Training the model\n",
        "train3 = model3.fit(X_train3, y_train3, epochs=100, batch_size=32, validation_split=0.2)\n",
        "\n",
        "# Evaluating the model\n",
        "loss, accuracy = model3.evaluate(X_test3, y_test3)\n",
        "print(f\"Test Accuracy: {accuracy * 100:.2f}%\")"
      ],
      "metadata": {
        "colab": {
          "base_uri": "https://localhost:8080/"
        },
        "id": "Kmqjk2s98YdX",
        "outputId": "5c9f66bc-1cd3-4038-f1e0-40d6604f359a"
      },
      "execution_count": null,
      "outputs": [
        {
          "output_type": "stream",
          "name": "stdout",
          "text": [
            "Epoch 1/10\n",
            "1414/1414 [==============================] - 4s 2ms/step - loss: 0.5142 - accuracy: 0.7463 - val_loss: 0.5030 - val_accuracy: 0.7505\n",
            "Epoch 2/10\n",
            "1414/1414 [==============================] - 3s 2ms/step - loss: 0.5034 - accuracy: 0.7545 - val_loss: 0.5073 - val_accuracy: 0.7490\n",
            "Epoch 3/10\n",
            "1414/1414 [==============================] - 3s 2ms/step - loss: 0.5013 - accuracy: 0.7552 - val_loss: 0.5054 - val_accuracy: 0.7472\n",
            "Epoch 4/10\n",
            "1414/1414 [==============================] - 4s 3ms/step - loss: 0.4985 - accuracy: 0.7565 - val_loss: 0.5063 - val_accuracy: 0.7512\n",
            "Epoch 5/10\n",
            "1414/1414 [==============================] - 4s 3ms/step - loss: 0.4971 - accuracy: 0.7578 - val_loss: 0.5068 - val_accuracy: 0.7485\n",
            "Epoch 6/10\n",
            "1414/1414 [==============================] - 3s 2ms/step - loss: 0.4949 - accuracy: 0.7603 - val_loss: 0.5090 - val_accuracy: 0.7473\n",
            "Epoch 7/10\n",
            "1414/1414 [==============================] - 4s 3ms/step - loss: 0.4930 - accuracy: 0.7610 - val_loss: 0.5097 - val_accuracy: 0.7446\n",
            "Epoch 8/10\n",
            "1414/1414 [==============================] - 3s 2ms/step - loss: 0.4909 - accuracy: 0.7622 - val_loss: 0.5093 - val_accuracy: 0.7500\n",
            "Epoch 9/10\n",
            "1414/1414 [==============================] - 3s 2ms/step - loss: 0.4886 - accuracy: 0.7636 - val_loss: 0.5121 - val_accuracy: 0.7447\n",
            "Epoch 10/10\n",
            "1414/1414 [==============================] - 3s 2ms/step - loss: 0.4866 - accuracy: 0.7660 - val_loss: 0.5102 - val_accuracy: 0.7473\n",
            "442/442 [==============================] - 1s 1ms/step - loss: 0.5086 - accuracy: 0.7491\n",
            "Test Accuracy: 74.91%\n"
          ]
        }
      ]
    },
    {
      "cell_type": "code",
      "source": [
        "# Make predictions on the test set\n",
        "y_pred3 = model3.predict(X_test3)\n",
        "y_pred3 = np.round(y_pred3).astype(int)  # Converting probabilities to binary class labels\n",
        "# Calculate accuracy\n",
        "accuracy = accuracy_score(y_test3, y_pred3)\n",
        "print(f'Accuracy: {accuracy:.2f}')\n",
        "\n",
        "# Generating the confusion matrix\n",
        "cm = confusion_matrix(y_test3, y_pred3)\n",
        "disp = ConfusionMatrixDisplay(confusion_matrix=cm, display_labels=['Non-diabetic', 'Diabetic'])\n",
        "\n",
        "# Display the confusion matrix\n",
        "disp.plot()\n",
        "plt.show()"
      ],
      "metadata": {
        "colab": {
          "base_uri": "https://localhost:8080/",
          "height": 484
        },
        "id": "Bw43cYne-KSL",
        "outputId": "8aab5566-eb06-4d0b-80d6-075a3ce94371"
      },
      "execution_count": null,
      "outputs": [
        {
          "output_type": "stream",
          "name": "stdout",
          "text": [
            "442/442 [==============================] - 1s 1ms/step\n",
            "Accuracy: 0.75\n"
          ]
        },
        {
          "output_type": "display_data",
          "data": {
            "text/plain": [
              "<Figure size 640x480 with 2 Axes>"
            ],
            "image/png": "[encoded data removed]"
          },
          "metadata": {}
        }
      ]
    },
    {
      "cell_type": "markdown",
      "source": [
        "Even if the accuracy is a bit lower, I prefer this model over the first one.\n",
        "it is able to predict more cases with diabetes. Let's now try to see if we can makke any improvement of model from the second dataset. The target variable Diabetes_binary has 2 classes. 0 is for no diabetes, and 1 is for prediabetes or diabetes. This time in the training dataset is increased with a randomOverSampler to balance the class of Diabetes_binary and as always StandardScaler() is used to have a balacned distribution of data."
      ],
      "metadata": {
        "id": "_QX4u3cZHms9"
      }
    },
    {
      "cell_type": "code",
      "source": [
        "y2 = df2['Diabetes_binary']\n",
        "X2 = df2.drop('Diabetes_binary', axis=1)\n",
        "\n",
        "\n",
        "# Split the dataset into training and testing sets\n",
        "X_train2, X_test2, y_train2, y_test4 = train_test_split(X2, y2, test_size=0.2, random_state=42)\n",
        "\n",
        "# Initialize the RandomOverSampler\n",
        "ros = RandomOverSampler(random_state=42)\n",
        "\n",
        "# Fit and apply the transform\n",
        "X_train2_resampled, y_train4 = ros.fit_resample(X_train2, y_train2)\n",
        "\n",
        "# Check the new class distribution\n",
        "print(y_train4.value_counts())\n",
        "\n",
        "# Scaling the features\n",
        "scaler = StandardScaler()\n",
        "X_train4 = scaler.fit_transform(X_train2_resampled)\n",
        "X_test4 = scaler.transform(X_test2)\n",
        "\n",
        "# Check the shapes of the datasets\n",
        "print(X_train4.shape, y_train4.shape, X_test4.shape, y_test4.shape)"
      ],
      "metadata": {
        "colab": {
          "base_uri": "https://localhost:8080/"
        },
        "id": "ke0Ce5UXdRdr",
        "outputId": "10b7052c-909c-4744-8195-67c581c49429"
      },
      "execution_count": null,
      "outputs": [
        {
          "output_type": "stream",
          "name": "stdout",
          "text": [
            "0.0    174595\n",
            "1.0    174595\n",
            "Name: Diabetes_binary, dtype: int64\n",
            "(349190, 21) (349190,) (50736, 21) (50736,)\n"
          ]
        }
      ]
    },
    {
      "cell_type": "code",
      "source": [
        "#build the model\n",
        "model4 = Sequential()\n",
        "model4.add(Dense(64, input_shape=(X_train4.shape[1],), activation='relu'))\n",
        "#model4.add(Dense(128, activation='relu'))\n",
        "model4.add(Dense(64, activation='relu'))\n",
        "model4.add(Dropout(0.5))  # Add dropout layer with 50% dropout rate\n",
        "model4.add(Dense(32, activation='relu'))\n",
        "model4.add(Dense(1, activation='sigmoid'))  # Output layer for binary classification\n",
        "\n",
        "\n",
        "\n",
        "# Compiling the model\n",
        "model4.compile(loss='binary_crossentropy', optimizer='adam', metrics=['accuracy'])\n",
        "model4.summary()\n",
        "# Implement Early Stopping\n",
        "early_stopping = EarlyStopping(monitor='loss', min_delta=1e-3, patience=2, verbose=1, mode='auto')\n",
        "\n"
      ],
      "metadata": {
        "colab": {
          "base_uri": "https://localhost:8080/"
        },
        "id": "5yC2A6j0dULu",
        "outputId": "086e9a39-34c9-446f-d083-483e7e6328f4"
      },
      "execution_count": null,
      "outputs": [
        {
          "output_type": "stream",
          "name": "stdout",
          "text": [
            "Model: \"sequential_29\"\n",
            "_________________________________________________________________\n",
            " Layer (type)                Output Shape              Param #   \n",
            "=================================================================\n",
            " dense_117 (Dense)           (None, 64)                1408      \n",
            "                                                                 \n",
            " dense_118 (Dense)           (None, 64)                4160      \n",
            "                                                                 \n",
            " dropout_15 (Dropout)        (None, 64)                0         \n",
            "                                                                 \n",
            " dense_119 (Dense)           (None, 32)                2080      \n",
            "                                                                 \n",
            " dense_120 (Dense)           (None, 1)                 33        \n",
            "                                                                 \n",
            "=================================================================\n",
            "Total params: 7681 (30.00 KB)\n",
            "Trainable params: 7681 (30.00 KB)\n",
            "Non-trainable params: 0 (0.00 Byte)\n",
            "_________________________________________________________________\n"
          ]
        }
      ]
    },
    {
      "cell_type": "code",
      "source": [
        "# Training the model with Early Stopping\n",
        "train4 = model4.fit(X_train4, y_train4, epochs=100, batch_size=128, validation_split=0.2, callbacks=[early_stopping])\n",
        "\n",
        "# Evaluating the model\n",
        "loss, accuracy = model4.evaluate(X_test4, y_test4)\n",
        "print(f\"Test Accuracy: {accuracy * 100:.2f}%\")"
      ],
      "metadata": {
        "colab": {
          "base_uri": "https://localhost:8080/"
        },
        "id": "iBQ_F_bCmBx2",
        "outputId": "ee52bb5a-8a00-4ccd-a977-938923880260"
      },
      "execution_count": null,
      "outputs": [
        {
          "output_type": "stream",
          "name": "stdout",
          "text": [
            "Epoch 1/100\n",
            "2183/2183 [==============================] - 8s 4ms/step - loss: 0.4814 - accuracy: 0.7597 - val_loss: 0.6532 - val_accuracy: 0.6726\n",
            "Epoch 2/100\n",
            "2183/2183 [==============================] - 11s 5ms/step - loss: 0.4807 - accuracy: 0.7602 - val_loss: 0.6491 - val_accuracy: 0.6483\n",
            "Epoch 3/100\n",
            "2183/2183 [==============================] - 6s 3ms/step - loss: 0.4802 - accuracy: 0.7605 - val_loss: 0.6361 - val_accuracy: 0.6693\n",
            "Epoch 4/100\n",
            "2183/2183 [==============================] - 6s 3ms/step - loss: 0.4796 - accuracy: 0.7608 - val_loss: 0.6287 - val_accuracy: 0.6964\n",
            "Epoch 5/100\n",
            "2183/2183 [==============================] - 5s 2ms/step - loss: 0.4786 - accuracy: 0.7616 - val_loss: 0.6646 - val_accuracy: 0.6688\n",
            "Epoch 6/100\n",
            "2183/2183 [==============================] - 7s 3ms/step - loss: 0.4780 - accuracy: 0.7617 - val_loss: 0.6626 - val_accuracy: 0.6410\n",
            "Epoch 7/100\n",
            "2183/2183 [==============================] - 7s 3ms/step - loss: 0.4779 - accuracy: 0.7619 - val_loss: 0.6583 - val_accuracy: 0.6740\n",
            "Epoch 7: early stopping\n",
            "1586/1586 [==============================] - 2s 1ms/step - loss: 0.4308 - accuracy: 0.7943\n",
            "Test Accuracy: 79.43%\n"
          ]
        }
      ]
    },
    {
      "cell_type": "code",
      "source": [
        "# Make predictions on the test set\n",
        "y_pred4 = model4.predict(X_test4)\n",
        "y_pred4 = np.round(y_pred4).astype(int)  # Converting probabilities to binary class labels\n",
        "# Calculate accuracy\n",
        "accuracy = accuracy_score(y_test4, y_pred4)\n",
        "print(f'Accuracy: {accuracy:.2f}')\n",
        "\n",
        "# Generating the confusion matrix\n",
        "cm = confusion_matrix(y_test4, y_pred4)\n",
        "disp = ConfusionMatrixDisplay(confusion_matrix=cm, display_labels=['Non-diabetic', 'Diabetic'])\n",
        "\n",
        "# Display the confusion matrix\n",
        "disp.plot()\n",
        "plt.show()"
      ],
      "metadata": {
        "colab": {
          "base_uri": "https://localhost:8080/",
          "height": 485
        },
        "id": "F0iNrKXknuec",
        "outputId": "0a0b6da8-9377-4324-89d1-0ba96d2e1c66"
      },
      "execution_count": null,
      "outputs": [
        {
          "output_type": "stream",
          "name": "stdout",
          "text": [
            "1586/1586 [==============================] - 3s 2ms/step\n",
            "Accuracy: 0.79\n"
          ]
        },
        {
          "output_type": "display_data",
          "data": {
            "text/plain": [
              "<Figure size 640x480 with 2 Axes>"
            ],
            "image/png": "[encoded data removed]"
          },
          "metadata": {}
        }
      ]
    },
    {
      "cell_type": "code",
      "source": [
        "#training_accuracy2 = train4.history['accuracy']\n",
        "#validation_accuracy2 = train4.history['val_accuracy']\n",
        "plt.plot(train4.history['accuracy'], label='Training Accuracy')\n",
        "plt.plot(train4.history['val_accuracy'], label='Validation Accuracy')\n",
        "plt.title('Model Accuracy')\n",
        "plt.ylabel('Accuracy')\n",
        "plt.xlabel('Epoch')\n",
        "plt.legend()\n",
        "plt.show()"
      ],
      "metadata": {
        "id": "SeVMYG2jYT9X",
        "colab": {
          "base_uri": "https://localhost:8080/",
          "height": 472
        },
        "outputId": "32d1dff3-d8a4-4a55-e83a-99b1347972a7"
      },
      "execution_count": null,
      "outputs": [
        {
          "output_type": "display_data",
          "data": {
            "text/plain": [
              "<Figure size 640x480 with 1 Axes>"
            ],
            "image/png": "[encoded data removed]"
          },
          "metadata": {}
        }
      ]
    },
    {
      "cell_type": "markdown",
      "source": [
        "This is the best model so far. I will call this model X. Let's see if we can make it better, trying to increse number of epoches, new layers, removing some features of the dataset that seem to be irrelevant. Here below, I have incresed the number of neurons of the first layer to 128 and aslo put a larger patience to make the model complete the 100 ephoches and not to stop training early as before."
      ],
      "metadata": {
        "id": "OzRyC9FVjFg-"
      }
    },
    {
      "cell_type": "code",
      "source": [
        "y2 = df2['Diabetes_binary']\n",
        "X2 = df2.drop('Diabetes_binary', axis=1)\n",
        "\n",
        "\n",
        "# Split the dataset into training and testing sets\n",
        "X_train2, X_test2, y_train2, y_test4 = train_test_split(X2, y2, test_size=0.2, random_state=42)\n",
        "\n",
        "# Initialize the RandomOverSampler\n",
        "ros = RandomOverSampler(random_state=42)\n",
        "\n",
        "# Fit and apply the transform\n",
        "X_train2_resampled, y_train4 = ros.fit_resample(X_train2, y_train2)\n",
        "\n",
        "# Check the new class distribution\n",
        "print(y_train4.value_counts())\n",
        "\n",
        "# Scaling the features\n",
        "scaler = StandardScaler()\n",
        "X_train4 = scaler.fit_transform(X_train2_resampled)\n",
        "X_test4 = scaler.transform(X_test2)\n",
        "\n",
        "# Check the shapes of the datasets\n",
        "print(X_train4.shape, y_train4.shape, X_test4.shape, y_test4.shape)\n",
        "#build the model\n",
        "model4 = Sequential()\n",
        "model4.add(Dense(128, input_shape=(X_train4.shape[1],), activation='relu'))\n",
        "#model4.add(Dense(128, activation='relu'))\n",
        "model4.add(Dense(64, activation='relu'))\n",
        "#model4.add(Dropout(0.5))  # Add dropout layer with 50% dropout rate\n",
        "model4.add(Dense(32, activation='relu'))\n",
        "model4.add(Dense(1, activation='sigmoid'))  # Output layer for binary classification\n",
        "\n",
        "\n",
        "\n",
        "# Compiling the model\n",
        "model4.compile(loss='binary_crossentropy', optimizer='adam', metrics=['accuracy'])\n",
        "model4.summary()\n",
        "# Implement Early Stopping\n",
        "early_stopping = EarlyStopping(monitor='loss', min_delta=1e-3, patience=5, verbose=1, mode='auto')"
      ],
      "metadata": {
        "colab": {
          "base_uri": "https://localhost:8080/"
        },
        "id": "UavULryNQLHa",
        "outputId": "df916b31-c5e3-4b15-a0eb-a7e53e40567c"
      },
      "execution_count": null,
      "outputs": [
        {
          "output_type": "stream",
          "name": "stdout",
          "text": [
            "0.0    174595\n",
            "1.0    174595\n",
            "Name: Diabetes_binary, dtype: int64\n",
            "(349190, 21) (349190,) (50736, 21) (50736,)\n",
            "Model: \"sequential_1\"\n",
            "_________________________________________________________________\n",
            " Layer (type)                Output Shape              Param #   \n",
            "=================================================================\n",
            " dense_4 (Dense)             (None, 128)               2816      \n",
            "                                                                 \n",
            " dense_5 (Dense)             (None, 64)                8256      \n",
            "                                                                 \n",
            " dense_6 (Dense)             (None, 32)                2080      \n",
            "                                                                 \n",
            " dense_7 (Dense)             (None, 1)                 33        \n",
            "                                                                 \n",
            "=================================================================\n",
            "Total params: 13185 (51.50 KB)\n",
            "Trainable params: 13185 (51.50 KB)\n",
            "Non-trainable params: 0 (0.00 Byte)\n",
            "_________________________________________________________________\n"
          ]
        }
      ]
    },
    {
      "cell_type": "code",
      "source": [
        "#In this particular attempt we tries to increse the nuumber of ephoches\n",
        "# Training the model with Early Stopping\n",
        "train4 = model4.fit(X_train4, y_train4, epochs=100, batch_size=128, validation_split=0.2, callbacks=[early_stopping])\n",
        "\n",
        "# Evaluating the model\n",
        "loss, accuracy = model4.evaluate(X_test4, y_test4)\n",
        "print(f\"Test Accuracy: {accuracy * 100:.2f}%\")"
      ],
      "metadata": {
        "colab": {
          "base_uri": "https://localhost:8080/"
        },
        "id": "4InJHdHTQgSv",
        "outputId": "8ad60988-e2ab-42a9-dc16-5e03b9bc5d82"
      },
      "execution_count": null,
      "outputs": [
        {
          "output_type": "stream",
          "name": "stdout",
          "text": [
            "Epoch 1/100\n",
            "2183/2183 [==============================] - 4s 2ms/step - loss: 0.4905 - accuracy: 0.7522 - val_loss: 0.6976 - val_accuracy: 0.6395\n",
            "Epoch 2/100\n",
            "2183/2183 [==============================] - 3s 2ms/step - loss: 0.4839 - accuracy: 0.7564 - val_loss: 0.6427 - val_accuracy: 0.6814\n",
            "Epoch 3/100\n",
            "2183/2183 [==============================] - 4s 2ms/step - loss: 0.4806 - accuracy: 0.7592 - val_loss: 0.6328 - val_accuracy: 0.6896\n",
            "Epoch 4/100\n",
            "2183/2183 [==============================] - 3s 2ms/step - loss: 0.4772 - accuracy: 0.7615 - val_loss: 0.6659 - val_accuracy: 0.6556\n",
            "Epoch 5/100\n",
            "2183/2183 [==============================] - 3s 2ms/step - loss: 0.4734 - accuracy: 0.7636 - val_loss: 0.6494 - val_accuracy: 0.6843\n",
            "Epoch 6/100\n",
            "2183/2183 [==============================] - 4s 2ms/step - loss: 0.4693 - accuracy: 0.7664 - val_loss: 0.6502 - val_accuracy: 0.6838\n",
            "Epoch 7/100\n",
            "2183/2183 [==============================] - 3s 2ms/step - loss: 0.4648 - accuracy: 0.7686 - val_loss: 0.6229 - val_accuracy: 0.7008\n",
            "Epoch 8/100\n",
            "2183/2183 [==============================] - 3s 2ms/step - loss: 0.4604 - accuracy: 0.7710 - val_loss: 0.6595 - val_accuracy: 0.6823\n",
            "Epoch 9/100\n",
            "2183/2183 [==============================] - 3s 2ms/step - loss: 0.4561 - accuracy: 0.7740 - val_loss: 0.6994 - val_accuracy: 0.6494\n",
            "Epoch 10/100\n",
            "2183/2183 [==============================] - 4s 2ms/step - loss: 0.4515 - accuracy: 0.7776 - val_loss: 0.6496 - val_accuracy: 0.6894\n",
            "Epoch 11/100\n",
            "2183/2183 [==============================] - 4s 2ms/step - loss: 0.4471 - accuracy: 0.7808 - val_loss: 0.5861 - val_accuracy: 0.7391\n",
            "Epoch 12/100\n",
            "2183/2183 [==============================] - 3s 2ms/step - loss: 0.4433 - accuracy: 0.7827 - val_loss: 0.6285 - val_accuracy: 0.7010\n",
            "Epoch 13/100\n",
            "2183/2183 [==============================] - 4s 2ms/step - loss: 0.4394 - accuracy: 0.7851 - val_loss: 0.5867 - val_accuracy: 0.7375\n",
            "Epoch 14/100\n",
            "2183/2183 [==============================] - 3s 2ms/step - loss: 0.4359 - accuracy: 0.7877 - val_loss: 0.6031 - val_accuracy: 0.7191\n",
            "Epoch 15/100\n",
            "2183/2183 [==============================] - 3s 2ms/step - loss: 0.4323 - accuracy: 0.7890 - val_loss: 0.5750 - val_accuracy: 0.7389\n",
            "Epoch 16/100\n",
            "2183/2183 [==============================] - 4s 2ms/step - loss: 0.4296 - accuracy: 0.7908 - val_loss: 0.6108 - val_accuracy: 0.7099\n",
            "Epoch 17/100\n",
            "2183/2183 [==============================] - 3s 2ms/step - loss: 0.4263 - accuracy: 0.7924 - val_loss: 0.5615 - val_accuracy: 0.7474\n",
            "Epoch 18/100\n",
            "2183/2183 [==============================] - 3s 2ms/step - loss: 0.4236 - accuracy: 0.7946 - val_loss: 0.5828 - val_accuracy: 0.7262\n",
            "Epoch 19/100\n",
            "2183/2183 [==============================] - 3s 2ms/step - loss: 0.4209 - accuracy: 0.7969 - val_loss: 0.6011 - val_accuracy: 0.7250\n",
            "Epoch 20/100\n",
            "2183/2183 [==============================] - 5s 2ms/step - loss: 0.4183 - accuracy: 0.7975 - val_loss: 0.5448 - val_accuracy: 0.7585\n",
            "Epoch 21/100\n",
            "2183/2183 [==============================] - 3s 2ms/step - loss: 0.4163 - accuracy: 0.7990 - val_loss: 0.6267 - val_accuracy: 0.7106\n",
            "Epoch 22/100\n",
            "2183/2183 [==============================] - 3s 2ms/step - loss: 0.4141 - accuracy: 0.8002 - val_loss: 0.6033 - val_accuracy: 0.7262\n",
            "Epoch 23/100\n",
            "2183/2183 [==============================] - 4s 2ms/step - loss: 0.4123 - accuracy: 0.8016 - val_loss: 0.5600 - val_accuracy: 0.7476\n",
            "Epoch 24/100\n",
            "2183/2183 [==============================] - 3s 2ms/step - loss: 0.4105 - accuracy: 0.8023 - val_loss: 0.5713 - val_accuracy: 0.7460\n",
            "Epoch 25/100\n",
            "2183/2183 [==============================] - 3s 2ms/step - loss: 0.4087 - accuracy: 0.8039 - val_loss: 0.5249 - val_accuracy: 0.7692\n",
            "Epoch 26/100\n",
            "2183/2183 [==============================] - 4s 2ms/step - loss: 0.4067 - accuracy: 0.8048 - val_loss: 0.5363 - val_accuracy: 0.7622\n",
            "Epoch 27/100\n",
            "2183/2183 [==============================] - 3s 2ms/step - loss: 0.4052 - accuracy: 0.8058 - val_loss: 0.5572 - val_accuracy: 0.7482\n",
            "Epoch 28/100\n",
            "2183/2183 [==============================] - 3s 2ms/step - loss: 0.4037 - accuracy: 0.8061 - val_loss: 0.5991 - val_accuracy: 0.7323\n",
            "Epoch 29/100\n",
            "2183/2183 [==============================] - 4s 2ms/step - loss: 0.4025 - accuracy: 0.8074 - val_loss: 0.6139 - val_accuracy: 0.7169\n",
            "Epoch 30/100\n",
            "2183/2183 [==============================] - 3s 2ms/step - loss: 0.4005 - accuracy: 0.8084 - val_loss: 0.5604 - val_accuracy: 0.7530\n",
            "Epoch 31/100\n",
            "2183/2183 [==============================] - 3s 2ms/step - loss: 0.3993 - accuracy: 0.8098 - val_loss: 0.5051 - val_accuracy: 0.7760\n",
            "Epoch 32/100\n",
            "2183/2183 [==============================] - 3s 2ms/step - loss: 0.3982 - accuracy: 0.8097 - val_loss: 0.5670 - val_accuracy: 0.7440\n",
            "Epoch 33/100\n",
            "2183/2183 [==============================] - 4s 2ms/step - loss: 0.3965 - accuracy: 0.8108 - val_loss: 0.5651 - val_accuracy: 0.7423\n",
            "Epoch 34/100\n",
            "2183/2183 [==============================] - 3s 2ms/step - loss: 0.3955 - accuracy: 0.8116 - val_loss: 0.5509 - val_accuracy: 0.7530\n",
            "Epoch 35/100\n",
            "2183/2183 [==============================] - 3s 2ms/step - loss: 0.3942 - accuracy: 0.8122 - val_loss: 0.5789 - val_accuracy: 0.7405\n",
            "Epoch 36/100\n",
            "2183/2183 [==============================] - 4s 2ms/step - loss: 0.3926 - accuracy: 0.8125 - val_loss: 0.5681 - val_accuracy: 0.7481\n",
            "Epoch 37/100\n",
            "2183/2183 [==============================] - 3s 2ms/step - loss: 0.3917 - accuracy: 0.8133 - val_loss: 0.5727 - val_accuracy: 0.7480\n",
            "Epoch 38/100\n",
            "2183/2183 [==============================] - 4s 2ms/step - loss: 0.3905 - accuracy: 0.8149 - val_loss: 0.5824 - val_accuracy: 0.7314\n",
            "Epoch 39/100\n",
            "2183/2183 [==============================] - 4s 2ms/step - loss: 0.3896 - accuracy: 0.8141 - val_loss: 0.5356 - val_accuracy: 0.7715\n",
            "Epoch 40/100\n",
            "2183/2183 [==============================] - 3s 2ms/step - loss: 0.3883 - accuracy: 0.8155 - val_loss: 0.5833 - val_accuracy: 0.7396\n",
            "Epoch 41/100\n",
            "2183/2183 [==============================] - 3s 2ms/step - loss: 0.3879 - accuracy: 0.8163 - val_loss: 0.5640 - val_accuracy: 0.7461\n",
            "Epoch 42/100\n",
            "2183/2183 [==============================] - 4s 2ms/step - loss: 0.3860 - accuracy: 0.8172 - val_loss: 0.5155 - val_accuracy: 0.7761\n",
            "Epoch 43/100\n",
            "2183/2183 [==============================] - 4s 2ms/step - loss: 0.3854 - accuracy: 0.8172 - val_loss: 0.6165 - val_accuracy: 0.7112\n",
            "Epoch 44/100\n",
            "2183/2183 [==============================] - 3s 2ms/step - loss: 0.3846 - accuracy: 0.8177 - val_loss: 0.5337 - val_accuracy: 0.7702\n",
            "Epoch 45/100\n",
            "2183/2183 [==============================] - 3s 2ms/step - loss: 0.3834 - accuracy: 0.8186 - val_loss: 0.5641 - val_accuracy: 0.7446\n",
            "Epoch 46/100\n",
            "2183/2183 [==============================] - 4s 2ms/step - loss: 0.3824 - accuracy: 0.8188 - val_loss: 0.5357 - val_accuracy: 0.7646\n",
            "Epoch 47/100\n",
            "2183/2183 [==============================] - 3s 2ms/step - loss: 0.3819 - accuracy: 0.8193 - val_loss: 0.5635 - val_accuracy: 0.7478\n",
            "Epoch 48/100\n",
            "2183/2183 [==============================] - 3s 2ms/step - loss: 0.3808 - accuracy: 0.8194 - val_loss: 0.5412 - val_accuracy: 0.7613\n",
            "Epoch 49/100\n",
            "2183/2183 [==============================] - 4s 2ms/step - loss: 0.3799 - accuracy: 0.8202 - val_loss: 0.5391 - val_accuracy: 0.7683\n",
            "Epoch 50/100\n",
            "2183/2183 [==============================] - 3s 2ms/step - loss: 0.3790 - accuracy: 0.8206 - val_loss: 0.5457 - val_accuracy: 0.7600\n",
            "Epoch 51/100\n",
            "2183/2183 [==============================] - 4s 2ms/step - loss: 0.3783 - accuracy: 0.8205 - val_loss: 0.5627 - val_accuracy: 0.7499\n",
            "Epoch 52/100\n",
            "2183/2183 [==============================] - 4s 2ms/step - loss: 0.3781 - accuracy: 0.8210 - val_loss: 0.5655 - val_accuracy: 0.7512\n",
            "Epoch 53/100\n",
            "2183/2183 [==============================] - 4s 2ms/step - loss: 0.3771 - accuracy: 0.8213 - val_loss: 0.5508 - val_accuracy: 0.7531\n",
            "Epoch 54/100\n",
            "2183/2183 [==============================] - 4s 2ms/step - loss: 0.3761 - accuracy: 0.8231 - val_loss: 0.5552 - val_accuracy: 0.7577\n",
            "Epoch 55/100\n",
            "2183/2183 [==============================] - 4s 2ms/step - loss: 0.3756 - accuracy: 0.8228 - val_loss: 0.5308 - val_accuracy: 0.7665\n",
            "Epoch 56/100\n",
            "2183/2183 [==============================] - 4s 2ms/step - loss: 0.3749 - accuracy: 0.8227 - val_loss: 0.5567 - val_accuracy: 0.7473\n",
            "Epoch 57/100\n",
            "2183/2183 [==============================] - 3s 2ms/step - loss: 0.3743 - accuracy: 0.8233 - val_loss: 0.5717 - val_accuracy: 0.7324\n",
            "Epoch 58/100\n",
            "2183/2183 [==============================] - 3s 2ms/step - loss: 0.3736 - accuracy: 0.8240 - val_loss: 0.5186 - val_accuracy: 0.7716\n",
            "Epoch 59/100\n",
            "2183/2183 [==============================] - 4s 2ms/step - loss: 0.3730 - accuracy: 0.8242 - val_loss: 0.6012 - val_accuracy: 0.7344\n",
            "Epoch 60/100\n",
            "2183/2183 [==============================] - 3s 2ms/step - loss: 0.3722 - accuracy: 0.8245 - val_loss: 0.4967 - val_accuracy: 0.7889\n",
            "Epoch 61/100\n",
            "2183/2183 [==============================] - 3s 2ms/step - loss: 0.3712 - accuracy: 0.8249 - val_loss: 0.5381 - val_accuracy: 0.7645\n",
            "Epoch 62/100\n",
            "2183/2183 [==============================] - 4s 2ms/step - loss: 0.3714 - accuracy: 0.8249 - val_loss: 0.5302 - val_accuracy: 0.7737\n",
            "Epoch 63/100\n",
            "2183/2183 [==============================] - 3s 2ms/step - loss: 0.3700 - accuracy: 0.8259 - val_loss: 0.5967 - val_accuracy: 0.7399\n",
            "Epoch 64/100\n",
            "2183/2183 [==============================] - 3s 2ms/step - loss: 0.3697 - accuracy: 0.8266 - val_loss: 0.4943 - val_accuracy: 0.7916\n",
            "Epoch 65/100\n",
            "2183/2183 [==============================] - 4s 2ms/step - loss: 0.3689 - accuracy: 0.8267 - val_loss: 0.5013 - val_accuracy: 0.7784\n",
            "Epoch 66/100\n",
            "2183/2183 [==============================] - 4s 2ms/step - loss: 0.3684 - accuracy: 0.8267 - val_loss: 0.5238 - val_accuracy: 0.7691\n",
            "Epoch 67/100\n",
            "2183/2183 [==============================] - 3s 2ms/step - loss: 0.3679 - accuracy: 0.8272 - val_loss: 0.4992 - val_accuracy: 0.7861\n",
            "Epoch 68/100\n",
            "2183/2183 [==============================] - 3s 2ms/step - loss: 0.3677 - accuracy: 0.8275 - val_loss: 0.5222 - val_accuracy: 0.7666\n",
            "Epoch 69/100\n",
            "2183/2183 [==============================] - 4s 2ms/step - loss: 0.3665 - accuracy: 0.8276 - val_loss: 0.4292 - val_accuracy: 0.8271\n",
            "Epoch 70/100\n",
            "2183/2183 [==============================] - 3s 2ms/step - loss: 0.3661 - accuracy: 0.8281 - val_loss: 0.5249 - val_accuracy: 0.7681\n",
            "Epoch 71/100\n",
            "2183/2183 [==============================] - 4s 2ms/step - loss: 0.3654 - accuracy: 0.8288 - val_loss: 0.5535 - val_accuracy: 0.7565\n",
            "Epoch 72/100\n",
            "2183/2183 [==============================] - 4s 2ms/step - loss: 0.3653 - accuracy: 0.8282 - val_loss: 0.5088 - val_accuracy: 0.7855\n",
            "Epoch 73/100\n",
            "2183/2183 [==============================] - 3s 2ms/step - loss: 0.3648 - accuracy: 0.8294 - val_loss: 0.5169 - val_accuracy: 0.7827\n",
            "Epoch 74/100\n",
            "2183/2183 [==============================] - 3s 2ms/step - loss: 0.3639 - accuracy: 0.8288 - val_loss: 0.4976 - val_accuracy: 0.7840\n",
            "Epoch 75/100\n",
            "2183/2183 [==============================] - 4s 2ms/step - loss: 0.3640 - accuracy: 0.8297 - val_loss: 0.4741 - val_accuracy: 0.8065\n",
            "Epoch 76/100\n",
            "2183/2183 [==============================] - 3s 2ms/step - loss: 0.3632 - accuracy: 0.8299 - val_loss: 0.5002 - val_accuracy: 0.7868\n",
            "Epoch 77/100\n",
            "2183/2183 [==============================] - 3s 2ms/step - loss: 0.3628 - accuracy: 0.8302 - val_loss: 0.5048 - val_accuracy: 0.7856\n",
            "Epoch 78/100\n",
            "2183/2183 [==============================] - 3s 2ms/step - loss: 0.3620 - accuracy: 0.8306 - val_loss: 0.4889 - val_accuracy: 0.7934\n",
            "Epoch 79/100\n",
            "2183/2183 [==============================] - 4s 2ms/step - loss: 0.3619 - accuracy: 0.8314 - val_loss: 0.5459 - val_accuracy: 0.7559\n",
            "Epoch 80/100\n",
            "2183/2183 [==============================] - 3s 2ms/step - loss: 0.3615 - accuracy: 0.8314 - val_loss: 0.5326 - val_accuracy: 0.7627\n",
            "Epoch 81/100\n",
            "2183/2183 [==============================] - 4s 2ms/step - loss: 0.3610 - accuracy: 0.8316 - val_loss: 0.5030 - val_accuracy: 0.7817\n",
            "Epoch 82/100\n",
            "2183/2183 [==============================] - 4s 2ms/step - loss: 0.3604 - accuracy: 0.8318 - val_loss: 0.5484 - val_accuracy: 0.7602\n",
            "Epoch 83/100\n",
            "2183/2183 [==============================] - 4s 2ms/step - loss: 0.3603 - accuracy: 0.8316 - val_loss: 0.4733 - val_accuracy: 0.7971\n",
            "Epoch 84/100\n",
            "2183/2183 [==============================] - 3s 2ms/step - loss: 0.3597 - accuracy: 0.8315 - val_loss: 0.5379 - val_accuracy: 0.7657\n",
            "Epoch 85/100\n",
            "2183/2183 [==============================] - 4s 2ms/step - loss: 0.3590 - accuracy: 0.8322 - val_loss: 0.5002 - val_accuracy: 0.7908\n",
            "Epoch 86/100\n",
            "2183/2183 [==============================] - 3s 1ms/step - loss: 0.3588 - accuracy: 0.8322 - val_loss: 0.4670 - val_accuracy: 0.8047\n",
            "Epoch 87/100\n",
            "2183/2183 [==============================] - 3s 2ms/step - loss: 0.3582 - accuracy: 0.8331 - val_loss: 0.5176 - val_accuracy: 0.7722\n",
            "Epoch 88/100\n",
            "2183/2183 [==============================] - 3s 2ms/step - loss: 0.3577 - accuracy: 0.8332 - val_loss: 0.5244 - val_accuracy: 0.7680\n",
            "Epoch 89/100\n",
            "2183/2183 [==============================] - 4s 2ms/step - loss: 0.3574 - accuracy: 0.8335 - val_loss: 0.5406 - val_accuracy: 0.7641\n",
            "Epoch 90/100\n",
            "2183/2183 [==============================] - 3s 1ms/step - loss: 0.3574 - accuracy: 0.8338 - val_loss: 0.5203 - val_accuracy: 0.7756\n",
            "Epoch 91/100\n",
            "2183/2183 [==============================] - 3s 2ms/step - loss: 0.3570 - accuracy: 0.8337 - val_loss: 0.5163 - val_accuracy: 0.7752\n",
            "Epoch 92/100\n",
            "2183/2183 [==============================] - 4s 2ms/step - loss: 0.3560 - accuracy: 0.8344 - val_loss: 0.5246 - val_accuracy: 0.7692\n",
            "Epoch 93/100\n",
            "2183/2183 [==============================] - 3s 2ms/step - loss: 0.3564 - accuracy: 0.8337 - val_loss: 0.5068 - val_accuracy: 0.7769\n",
            "Epoch 94/100\n",
            "2183/2183 [==============================] - 3s 2ms/step - loss: 0.3557 - accuracy: 0.8336 - val_loss: 0.5168 - val_accuracy: 0.7755\n",
            "Epoch 95/100\n",
            "2183/2183 [==============================] - 4s 2ms/step - loss: 0.3557 - accuracy: 0.8340 - val_loss: 0.5230 - val_accuracy: 0.7709\n",
            "Epoch 96/100\n",
            "2183/2183 [==============================] - 3s 2ms/step - loss: 0.3549 - accuracy: 0.8346 - val_loss: 0.4888 - val_accuracy: 0.7921\n",
            "Epoch 97/100\n",
            "2183/2183 [==============================] - 3s 2ms/step - loss: 0.3549 - accuracy: 0.8349 - val_loss: 0.4645 - val_accuracy: 0.8087\n",
            "Epoch 98/100\n",
            "2183/2183 [==============================] - 4s 2ms/step - loss: 0.3544 - accuracy: 0.8352 - val_loss: 0.5227 - val_accuracy: 0.7820\n",
            "Epoch 99/100\n",
            "2183/2183 [==============================] - 3s 2ms/step - loss: 0.3537 - accuracy: 0.8357 - val_loss: 0.4701 - val_accuracy: 0.8045\n",
            "Epoch 100/100\n",
            "2183/2183 [==============================] - 3s 2ms/step - loss: 0.3535 - accuracy: 0.8363 - val_loss: 0.4807 - val_accuracy: 0.7977\n",
            "1586/1586 [==============================] - 1s 933us/step - loss: 0.5223 - accuracy: 0.7760\n",
            "Test Accuracy: 77.60%\n"
          ]
        }
      ]
    },
    {
      "cell_type": "code",
      "source": [
        "# Make predictions on the test set\n",
        "y_pred4 = model4.predict(X_test4)\n",
        "y_pred4 = np.round(y_pred4).astype(int)  # Converting probabilities to binary class labels\n",
        "# Calculate accuracy\n",
        "accuracy = accuracy_score(y_test4, y_pred4)\n",
        "print(f'Accuracy: {accuracy:.2f}')\n",
        "\n",
        "# Generating the confusion matrix\n",
        "cm = confusion_matrix(y_test4, y_pred4)\n",
        "disp = ConfusionMatrixDisplay(confusion_matrix=cm, display_labels=['Non-diabetic', 'Diabetic'])\n",
        "\n",
        "# Display the confusion matrix\n",
        "disp.plot()\n",
        "plt.show()"
      ],
      "metadata": {
        "colab": {
          "base_uri": "https://localhost:8080/",
          "height": 487
        },
        "id": "-qYZlvbhQjeA",
        "outputId": "dedfc33f-8160-4ca1-f482-6662f26cfdda"
      },
      "execution_count": null,
      "outputs": [
        {
          "output_type": "stream",
          "name": "stdout",
          "text": [
            "1586/1586 [==============================] - 1s 852us/step\n",
            "Accuracy: 0.78\n"
          ]
        },
        {
          "output_type": "display_data",
          "data": {
            "text/plain": [
              "<Figure size 640x480 with 2 Axes>"
            ],
            "image/png": "[encoded data removed]"
          },
          "metadata": {}
        }
      ]
    },
    {
      "cell_type": "markdown",
      "source": [
        "After trying to increse the number of the epoches and add more neurons we notice that the accuray of the testing has decresed slightly. So the previous model performed better with fewer ephoches and fewer neurons."
      ],
      "metadata": {
        "id": "MzgFyFUzkWAy"
      }
    },
    {
      "cell_type": "code",
      "source": [
        "#training_accuracy2 = train4.history['accuracy']\n",
        "#validation_accuracy2 = train4.history['val_accuracy']\n",
        "plt.plot(train4.history['accuracy'], label='Training Accuracy')\n",
        "plt.plot(train4.history['val_accuracy'], label='Validation Accuracy')\n",
        "plt.title('Model Accuracy')\n",
        "plt.ylabel('Accuracy')\n",
        "plt.xlabel('Epoch')\n",
        "plt.legend()\n",
        "plt.show()"
      ],
      "metadata": {
        "colab": {
          "base_uri": "https://localhost:8080/",
          "height": 472
        },
        "id": "OZctEQWbTSYt",
        "outputId": "6b6ec794-4a97-438b-df10-67a54cbf0278"
      },
      "execution_count": null,
      "outputs": [
        {
          "output_type": "display_data",
          "data": {
            "text/plain": [
              "<Figure size 640x480 with 1 Axes>"
            ],
            "image/png": "[encoded data removed]"
          },
          "metadata": {}
        }
      ]
    },
    {
      "cell_type": "code",
      "source": [
        "# 1. Loss Plot\n",
        "plt.figure()\n",
        "plt.plot(train4.history['loss'], label='Training Loss')\n",
        "plt.plot(train4.history['val_loss'], label='Validation Loss')\n",
        "plt.title('Model Loss')\n",
        "plt.ylabel('Loss')\n",
        "plt.xlabel('Epoch')\n",
        "plt.legend()\n",
        "plt.show()"
      ],
      "metadata": {
        "colab": {
          "base_uri": "https://localhost:8080/",
          "height": 472
        },
        "id": "7P9sOfxqUTQc",
        "outputId": "3f5169ff-7296-40b1-afe1-95e43dc74f77"
      },
      "execution_count": null,
      "outputs": [
        {
          "output_type": "display_data",
          "data": {
            "text/plain": [
              "<Figure size 640x480 with 1 Axes>"
            ],
            "image/png": "[encoded data removed]"
          },
          "metadata": {}
        }
      ]
    },
    {
      "cell_type": "markdown",
      "source": [
        "I want to see if dropping some columns from my input data can make the NN model any better. To decide which columns to drop, I created a simple RandomForest model in another notebook and I plotted a grapgh to see the feature importance in the Random Forest. These are the features that are the least relevant: 'HeartDiseaseorAttack', 'NoDocbcCost', 'HvyAlcoholConsump', 'Stroke', 'AnyHealthcare', 'CholCheck'.\n"
      ],
      "metadata": {
        "id": "uCeCVUVtk4rF"
      }
    },
    {
      "cell_type": "code",
      "source": [
        "\n",
        "columns_to_drop = ['HeartDiseaseorAttack', 'NoDocbcCost', 'HvyAlcoholConsump', 'Stroke', 'AnyHealthcare', 'CholCheck']\n",
        "X2_modified = df2.drop(columns_to_drop + ['Diabetes_binary'], axis=1)\n",
        "y2 = df2['Diabetes_binary']\n",
        "\n",
        "# Split the dataset into training and testing sets\n",
        "X_train2_modified, X_test2_modified, y_train2, y_test4 = train_test_split(X2_modified, y2, test_size=0.2, random_state=42)\n",
        "\n",
        "# Initialize the RandomOverSampler\n",
        "ros = RandomOverSampler(random_state=42)\n",
        "\n",
        "# Fit and apply the transform\n",
        "X_train2_resampled_modified, y_train4 = ros.fit_resample(X_train2_modified, y_train2)\n",
        "\n",
        "# Scaling the features\n",
        "scaler = StandardScaler()\n",
        "X_train4_modified = scaler.fit_transform(X_train2_resampled_modified)\n",
        "X_test4_modified = scaler.transform(X_test2_modified)\n",
        "\n",
        "# Build the modified model\n",
        "model4_modified = Sequential()\n",
        "model4_modified.add(Dense(64, input_shape=(X_train4_modified.shape[1],), activation='relu'))\n",
        "model4_modified.add(Dense(64, activation='relu'))\n",
        "model4_modified.add(Dense(32, activation='relu'))\n",
        "model4_modified.add(Dense(1, activation='sigmoid'))  # Output layer for binary classification\n",
        "\n",
        "# Compiling the model\n",
        "model4_modified.compile(loss='binary_crossentropy', optimizer='adam', metrics=['accuracy'])\n",
        "\n",
        "# Implement Early Stopping\n",
        "early_stopping_modified = EarlyStopping(monitor='loss', min_delta=1e-3, patience=5, verbose=1, mode='auto')\n",
        "\n",
        "# Printing the summary of the modified model\n",
        "model4_modified.summary()"
      ],
      "metadata": {
        "colab": {
          "base_uri": "https://localhost:8080/"
        },
        "id": "j_DT_1glfRU9",
        "outputId": "c0d893db-54c0-4a32-9f58-7774c2d078a4"
      },
      "execution_count": null,
      "outputs": [
        {
          "output_type": "stream",
          "name": "stdout",
          "text": [
            "Model: \"sequential_4\"\n",
            "_________________________________________________________________\n",
            " Layer (type)                Output Shape              Param #   \n",
            "=================================================================\n",
            " dense_16 (Dense)            (None, 64)                1024      \n",
            "                                                                 \n",
            " dense_17 (Dense)            (None, 64)                4160      \n",
            "                                                                 \n",
            " dense_18 (Dense)            (None, 32)                2080      \n",
            "                                                                 \n",
            " dense_19 (Dense)            (None, 1)                 33        \n",
            "                                                                 \n",
            "=================================================================\n",
            "Total params: 7297 (28.50 KB)\n",
            "Trainable params: 7297 (28.50 KB)\n",
            "Non-trainable params: 0 (0.00 Byte)\n",
            "_________________________________________________________________\n"
          ]
        }
      ]
    },
    {
      "cell_type": "code",
      "source": [
        "# Training the modified model\n",
        "history = model4_modified.fit(X_train4_modified, y_train4,\n",
        "                              epochs=10,\n",
        "                              batch_size=64,\n",
        "                              validation_split=0.2,\n",
        "                              callbacks=[early_stopping_modified])\n",
        "\n",
        "# Evaluating the modified model\n",
        "loss, accuracy = model4_modified.evaluate(X_test4_modified, y_test4)\n",
        "print(f\"Test Loss: {loss:.4f}\")\n",
        "print(f\"Test Accuracy: {accuracy * 100:.2f}%\")"
      ],
      "metadata": {
        "colab": {
          "base_uri": "https://localhost:8080/"
        },
        "id": "Io3mrVHKfXHw",
        "outputId": "10632366-bdd1-49bd-d0bd-81310631aba3"
      },
      "execution_count": null,
      "outputs": [
        {
          "output_type": "stream",
          "name": "stdout",
          "text": [
            "Epoch 1/10\n",
            "4365/4365 [==============================] - 7s 2ms/step - loss: 0.4296 - accuracy: 0.7915 - val_loss: 0.5590 - val_accuracy: 0.7514\n",
            "Epoch 2/10\n",
            "4365/4365 [==============================] - 7s 2ms/step - loss: 0.4277 - accuracy: 0.7928 - val_loss: 0.5596 - val_accuracy: 0.7410\n",
            "Epoch 3/10\n",
            "4365/4365 [==============================] - 6s 1ms/step - loss: 0.4276 - accuracy: 0.7927 - val_loss: 0.6459 - val_accuracy: 0.6995\n",
            "Epoch 4/10\n",
            "4365/4365 [==============================] - 7s 2ms/step - loss: 0.4273 - accuracy: 0.7929 - val_loss: 0.6048 - val_accuracy: 0.7183\n",
            "Epoch 5/10\n",
            "4365/4365 [==============================] - 7s 2ms/step - loss: 0.4271 - accuracy: 0.7933 - val_loss: 0.5978 - val_accuracy: 0.7247\n",
            "Epoch 6/10\n",
            "4365/4365 [==============================] - 6s 1ms/step - loss: 0.4266 - accuracy: 0.7936 - val_loss: 0.5755 - val_accuracy: 0.7465\n",
            "Epoch 7/10\n",
            "4365/4365 [==============================] - 7s 1ms/step - loss: 0.4266 - accuracy: 0.7936 - val_loss: 0.6140 - val_accuracy: 0.7166\n",
            "Epoch 8/10\n",
            "4365/4365 [==============================] - 6s 1ms/step - loss: 0.4263 - accuracy: 0.7940 - val_loss: 0.5756 - val_accuracy: 0.7427\n",
            "Epoch 9/10\n",
            "4365/4365 [==============================] - 7s 1ms/step - loss: 0.4261 - accuracy: 0.7944 - val_loss: 0.6481 - val_accuracy: 0.6856\n",
            "Epoch 10/10\n",
            "4365/4365 [==============================] - 6s 1ms/step - loss: 0.4257 - accuracy: 0.7946 - val_loss: 0.6460 - val_accuracy: 0.7015\n",
            "1586/1586 [==============================] - 2s 953us/step - loss: 0.4291 - accuracy: 0.7869\n",
            "Test Loss: 0.4291\n",
            "Test Accuracy: 78.69%\n"
          ]
        }
      ]
    },
    {
      "cell_type": "code",
      "source": [
        "# Make predictions on the test set\n",
        "y_pred_modified = model4_modified.predict(X_test4_modified)\n",
        "\n",
        "# Convert predictions to binary labels (assuming your model outputs probabilities)\n",
        "y_pred_binary = np.round(y_pred_modified).astype(int)\n",
        "\n",
        "# Generating the confusion matrix\n",
        "cm = confusion_matrix(y_test4, y_pred_binary)\n",
        "\n",
        "# Displaying the confusion matrix\n",
        "disp = ConfusionMatrixDisplay(confusion_matrix=cm, display_labels=['Non-Diabetic', 'Diabetic'])\n",
        "disp.plot()\n",
        "plt.show()\n",
        "\n",
        "# Calculate and print accuracy\n",
        "accuracy = accuracy_score(y_test4, y_pred_binary)\n",
        "print(f'Accuracy: {accuracy:.2f}')"
      ],
      "metadata": {
        "colab": {
          "base_uri": "https://localhost:8080/",
          "height": 485
        },
        "id": "pJXVjc0rf8uD",
        "outputId": "ce315024-bac9-4ffc-aa01-3fcdd71c091c"
      },
      "execution_count": null,
      "outputs": [
        {
          "output_type": "stream",
          "name": "stdout",
          "text": [
            "1586/1586 [==============================] - 1s 834us/step\n"
          ]
        },
        {
          "output_type": "display_data",
          "data": {
            "text/plain": [
              "<Figure size 640x480 with 2 Axes>"
            ],
            "image/png": "[encoded data removed]"
          },
          "metadata": {}
        },
        {
          "output_type": "stream",
          "name": "stdout",
          "text": [
            "Accuracy: 0.79\n"
          ]
        }
      ]
    },
    {
      "cell_type": "markdown",
      "source": [
        "This model has a similar accuracy to model X, however it makes more mistakes predicting the diabetec label. So, overall, my model X was performing better and I will go with that one."
      ],
      "metadata": {
        "id": "MEsE7TnDQVTZ"
      }
    }
  ]
}